{
 "cells": [
  {
   "cell_type": "markdown",
   "metadata": {},
   "source": [
    "# 0.0. Imports"
   ]
  },
  {
   "cell_type": "code",
   "execution_count": 1,
   "metadata": {
    "ExecuteTime": {
     "end_time": "2022-05-31T01:38:01.539064Z",
     "start_time": "2022-05-31T01:37:57.256965Z"
    }
   },
   "outputs": [],
   "source": [
    "import numpy   as np\n",
    "import pandas  as pd\n",
    "import seaborn as sns\n",
    "import warnings\n",
    "import datetime as dt\n",
    "import umap.umap_ as umap\n",
    "import random     as rd\n",
    "import re\n",
    "\n",
    "from matplotlib import pyplot as plt\n",
    "\n",
    "from sklearn import preprocessing as pp\n",
    "from sklearn import decomposition as dd\n",
    "from sklearn import cluster as c\n",
    "from sklearn import metrics\n",
    "from sklearn import ensemble as en\n",
    "from sklearn.manifold import TSNE\n",
    "from sklearn.mixture import GaussianMixture\n",
    "from scipy.cluster import hierarchy as hc\n",
    "\n",
    "from plotly import express as px"
   ]
  },
  {
   "cell_type": "markdown",
   "metadata": {},
   "source": [
    "## 0.2. Load dataset"
   ]
  },
  {
   "cell_type": "code",
   "execution_count": 2,
   "metadata": {
    "ExecuteTime": {
     "end_time": "2022-05-31T01:38:01.570800Z",
     "start_time": "2022-05-31T01:38:01.540065Z"
    }
   },
   "outputs": [
    {
     "name": "stdout",
     "output_type": "stream",
     "text": [
      "C:\\Users\\rauul\\repos\\insiders_clustering\\notebooks\n"
     ]
    }
   ],
   "source": [
    "!cd"
   ]
  },
  {
   "cell_type": "code",
   "execution_count": 3,
   "metadata": {
    "ExecuteTime": {
     "end_time": "2022-05-31T01:38:02.039839Z",
     "start_time": "2022-05-31T01:38:01.571800Z"
    }
   },
   "outputs": [],
   "source": [
    "# load data\n",
    "df_raw = pd.read_csv( r'..\\data\\raw\\Ecommerce.csv', encoding= 'unicode_escape')\n",
    "\n",
    "# drop extra column\n",
    "df_raw = df_raw.drop( columns=['Unnamed: 8'], axis=1 )"
   ]
  },
  {
   "cell_type": "markdown",
   "metadata": {},
   "source": [
    "# <font color='black'> 1.0. Descrição dos dados </font>"
   ]
  },
  {
   "cell_type": "code",
   "execution_count": 4,
   "metadata": {
    "ExecuteTime": {
     "end_time": "2022-05-31T01:38:02.054806Z",
     "start_time": "2022-05-31T01:38:02.040840Z"
    }
   },
   "outputs": [],
   "source": [
    "df1 = df_raw.copy()"
   ]
  },
  {
   "cell_type": "markdown",
   "metadata": {},
   "source": [
    "## 1.1. Rename columuns"
   ]
  },
  {
   "cell_type": "code",
   "execution_count": 5,
   "metadata": {
    "ExecuteTime": {
     "end_time": "2022-05-31T01:38:02.070793Z",
     "start_time": "2022-05-31T01:38:02.055804Z"
    }
   },
   "outputs": [],
   "source": [
    "cols_new = ['invoice_no', 'stock_code', 'description', 'quantity', 'invoice_date',\n",
    "             'unit_price', 'customer_id', 'country']"
   ]
  },
  {
   "cell_type": "code",
   "execution_count": 6,
   "metadata": {
    "ExecuteTime": {
     "end_time": "2022-05-31T01:38:02.085797Z",
     "start_time": "2022-05-31T01:38:02.071796Z"
    }
   },
   "outputs": [],
   "source": [
    "df1.columns = cols_new"
   ]
  },
  {
   "cell_type": "markdown",
   "metadata": {},
   "source": [
    "## 1.2. Data dimensions"
   ]
  },
  {
   "cell_type": "code",
   "execution_count": 7,
   "metadata": {
    "ExecuteTime": {
     "end_time": "2022-05-31T01:38:02.101800Z",
     "start_time": "2022-05-31T01:38:02.086797Z"
    }
   },
   "outputs": [
    {
     "name": "stdout",
     "output_type": "stream",
     "text": [
      "Number of rows: 541909\n",
      "Number of cols: 8\n"
     ]
    }
   ],
   "source": [
    "print('Number of rows: {}'.format(df1.shape[0]))\n",
    "print('Number of cols: {}'.format(df1.shape[1]))"
   ]
  },
  {
   "cell_type": "markdown",
   "metadata": {},
   "source": [
    "## 1.3. Data types"
   ]
  },
  {
   "cell_type": "code",
   "execution_count": 8,
   "metadata": {
    "ExecuteTime": {
     "end_time": "2022-05-31T01:38:02.117804Z",
     "start_time": "2022-05-31T01:38:02.102800Z"
    }
   },
   "outputs": [
    {
     "data": {
      "text/html": [
       "<div>\n",
       "<style scoped>\n",
       "    .dataframe tbody tr th:only-of-type {\n",
       "        vertical-align: middle;\n",
       "    }\n",
       "\n",
       "    .dataframe tbody tr th {\n",
       "        vertical-align: top;\n",
       "    }\n",
       "\n",
       "    .dataframe thead th {\n",
       "        text-align: right;\n",
       "    }\n",
       "</style>\n",
       "<table border=\"1\" class=\"dataframe\">\n",
       "  <thead>\n",
       "    <tr style=\"text-align: right;\">\n",
       "      <th></th>\n",
       "      <th>invoice_no</th>\n",
       "      <th>stock_code</th>\n",
       "      <th>description</th>\n",
       "      <th>quantity</th>\n",
       "      <th>invoice_date</th>\n",
       "      <th>unit_price</th>\n",
       "      <th>customer_id</th>\n",
       "      <th>country</th>\n",
       "    </tr>\n",
       "  </thead>\n",
       "  <tbody>\n",
       "    <tr>\n",
       "      <th>0</th>\n",
       "      <td>536365</td>\n",
       "      <td>85123A</td>\n",
       "      <td>WHITE HANGING HEART T-LIGHT HOLDER</td>\n",
       "      <td>6.0</td>\n",
       "      <td>29-Nov-16</td>\n",
       "      <td>2.55</td>\n",
       "      <td>17850.0</td>\n",
       "      <td>United Kingdom</td>\n",
       "    </tr>\n",
       "    <tr>\n",
       "      <th>1</th>\n",
       "      <td>536365</td>\n",
       "      <td>71053</td>\n",
       "      <td>WHITE METAL LANTERN</td>\n",
       "      <td>6.0</td>\n",
       "      <td>29-Nov-16</td>\n",
       "      <td>3.39</td>\n",
       "      <td>17850.0</td>\n",
       "      <td>United Kingdom</td>\n",
       "    </tr>\n",
       "    <tr>\n",
       "      <th>2</th>\n",
       "      <td>536365</td>\n",
       "      <td>84406B</td>\n",
       "      <td>CREAM CUPID HEARTS COAT HANGER</td>\n",
       "      <td>8.0</td>\n",
       "      <td>29-Nov-16</td>\n",
       "      <td>2.75</td>\n",
       "      <td>17850.0</td>\n",
       "      <td>United Kingdom</td>\n",
       "    </tr>\n",
       "  </tbody>\n",
       "</table>\n",
       "</div>"
      ],
      "text/plain": [
       "  invoice_no stock_code                         description  quantity  \\\n",
       "0     536365     85123A  WHITE HANGING HEART T-LIGHT HOLDER       6.0   \n",
       "1     536365      71053                 WHITE METAL LANTERN       6.0   \n",
       "2     536365     84406B      CREAM CUPID HEARTS COAT HANGER       8.0   \n",
       "\n",
       "  invoice_date  unit_price  customer_id         country  \n",
       "0    29-Nov-16        2.55      17850.0  United Kingdom  \n",
       "1    29-Nov-16        3.39      17850.0  United Kingdom  \n",
       "2    29-Nov-16        2.75      17850.0  United Kingdom  "
      ]
     },
     "execution_count": 8,
     "metadata": {},
     "output_type": "execute_result"
    }
   ],
   "source": [
    "df1.head(3)"
   ]
  },
  {
   "cell_type": "code",
   "execution_count": 9,
   "metadata": {
    "ExecuteTime": {
     "end_time": "2022-05-31T01:38:02.133807Z",
     "start_time": "2022-05-31T01:38:02.118804Z"
    }
   },
   "outputs": [
    {
     "data": {
      "text/plain": [
       "invoice_no       object\n",
       "stock_code       object\n",
       "description      object\n",
       "quantity        float64\n",
       "invoice_date     object\n",
       "unit_price      float64\n",
       "customer_id     float64\n",
       "country          object\n",
       "dtype: object"
      ]
     },
     "execution_count": 9,
     "metadata": {},
     "output_type": "execute_result"
    }
   ],
   "source": [
    "df1.dtypes"
   ]
  },
  {
   "cell_type": "markdown",
   "metadata": {},
   "source": [
    "## 1.4. Check NA"
   ]
  },
  {
   "cell_type": "code",
   "execution_count": 10,
   "metadata": {
    "ExecuteTime": {
     "end_time": "2022-05-31T01:38:02.336853Z",
     "start_time": "2022-05-31T01:38:02.135807Z"
    }
   },
   "outputs": [
    {
     "data": {
      "text/plain": [
       "invoice_no           0\n",
       "stock_code        6035\n",
       "description       7489\n",
       "quantity          6035\n",
       "invoice_date      6035\n",
       "unit_price        6035\n",
       "customer_id     138727\n",
       "country           6035\n",
       "dtype: int64"
      ]
     },
     "execution_count": 10,
     "metadata": {},
     "output_type": "execute_result"
    }
   ],
   "source": [
    "df1.isnull().sum()"
   ]
  },
  {
   "cell_type": "markdown",
   "metadata": {},
   "source": [
    "## 1.5. Replace NA"
   ]
  },
  {
   "cell_type": "code",
   "execution_count": 11,
   "metadata": {
    "ExecuteTime": {
     "end_time": "2022-05-31T01:38:02.383847Z",
     "start_time": "2022-05-31T01:38:02.337853Z"
    }
   },
   "outputs": [],
   "source": [
    "df1 = df1[~df1['stock_code'].isna()]"
   ]
  },
  {
   "cell_type": "code",
   "execution_count": 12,
   "metadata": {
    "ExecuteTime": {
     "end_time": "2022-05-31T01:38:02.571889Z",
     "start_time": "2022-05-31T01:38:02.384847Z"
    }
   },
   "outputs": [
    {
     "data": {
      "text/plain": [
       "invoice_no           0\n",
       "stock_code           0\n",
       "description       1454\n",
       "quantity             0\n",
       "invoice_date         0\n",
       "unit_price           0\n",
       "customer_id     132692\n",
       "country              0\n",
       "dtype: int64"
      ]
     },
     "execution_count": 12,
     "metadata": {},
     "output_type": "execute_result"
    }
   ],
   "source": [
    "df1.isnull().sum()"
   ]
  },
  {
   "cell_type": "code",
   "execution_count": 13,
   "metadata": {
    "ExecuteTime": {
     "end_time": "2022-05-31T01:38:02.619235Z",
     "start_time": "2022-05-31T01:38:02.572889Z"
    }
   },
   "outputs": [],
   "source": [
    "df_missing = df1.loc[df1['customer_id'].isna(),:]\n",
    "df_not_missing = df1.loc[~df1['customer_id'].isna(),:]"
   ]
  },
  {
   "cell_type": "code",
   "execution_count": 14,
   "metadata": {
    "ExecuteTime": {
     "end_time": "2022-05-31T01:38:02.635240Z",
     "start_time": "2022-05-31T01:38:02.620237Z"
    }
   },
   "outputs": [
    {
     "data": {
      "text/plain": [
       "Series([], Name: customer_id, dtype: float64)"
      ]
     },
     "execution_count": 14,
     "metadata": {},
     "output_type": "execute_result"
    }
   ],
   "source": [
    "# check customer id, if invoice_no in missing dataset into invoices not missing dataset\n",
    "missing_invoice = df_missing['invoice_no'].drop_duplicates().to_list()\n",
    "df_not_missing.loc[df_not_missing['invoice_no'].isin(missing_invoice),'customer_id']"
   ]
  },
  {
   "cell_type": "code",
   "execution_count": 15,
   "metadata": {
    "ExecuteTime": {
     "end_time": "2022-05-31T01:38:02.915851Z",
     "start_time": "2022-05-31T01:38:02.775819Z"
    }
   },
   "outputs": [
    {
     "data": {
      "text/html": [
       "<div>\n",
       "<style scoped>\n",
       "    .dataframe tbody tr th:only-of-type {\n",
       "        vertical-align: middle;\n",
       "    }\n",
       "\n",
       "    .dataframe tbody tr th {\n",
       "        vertical-align: top;\n",
       "    }\n",
       "\n",
       "    .dataframe thead th {\n",
       "        text-align: right;\n",
       "    }\n",
       "</style>\n",
       "<table border=\"1\" class=\"dataframe\">\n",
       "  <thead>\n",
       "    <tr style=\"text-align: right;\">\n",
       "      <th></th>\n",
       "      <th>invoice_no</th>\n",
       "      <th>stock_code</th>\n",
       "      <th>description</th>\n",
       "      <th>quantity</th>\n",
       "      <th>invoice_date</th>\n",
       "      <th>unit_price</th>\n",
       "      <th>country</th>\n",
       "      <th>customer_id</th>\n",
       "    </tr>\n",
       "  </thead>\n",
       "  <tbody>\n",
       "    <tr>\n",
       "      <th>0</th>\n",
       "      <td>536365</td>\n",
       "      <td>85123A</td>\n",
       "      <td>WHITE HANGING HEART T-LIGHT HOLDER</td>\n",
       "      <td>6.0</td>\n",
       "      <td>29-Nov-16</td>\n",
       "      <td>2.55</td>\n",
       "      <td>United Kingdom</td>\n",
       "      <td>17850.0</td>\n",
       "    </tr>\n",
       "    <tr>\n",
       "      <th>1</th>\n",
       "      <td>536365</td>\n",
       "      <td>71053</td>\n",
       "      <td>WHITE METAL LANTERN</td>\n",
       "      <td>6.0</td>\n",
       "      <td>29-Nov-16</td>\n",
       "      <td>3.39</td>\n",
       "      <td>United Kingdom</td>\n",
       "      <td>17850.0</td>\n",
       "    </tr>\n",
       "    <tr>\n",
       "      <th>2</th>\n",
       "      <td>536365</td>\n",
       "      <td>84406B</td>\n",
       "      <td>CREAM CUPID HEARTS COAT HANGER</td>\n",
       "      <td>8.0</td>\n",
       "      <td>29-Nov-16</td>\n",
       "      <td>2.75</td>\n",
       "      <td>United Kingdom</td>\n",
       "      <td>17850.0</td>\n",
       "    </tr>\n",
       "  </tbody>\n",
       "</table>\n",
       "</div>"
      ],
      "text/plain": [
       "  invoice_no stock_code                         description  quantity  \\\n",
       "0     536365     85123A  WHITE HANGING HEART T-LIGHT HOLDER       6.0   \n",
       "1     536365      71053                 WHITE METAL LANTERN       6.0   \n",
       "2     536365     84406B      CREAM CUPID HEARTS COAT HANGER       8.0   \n",
       "\n",
       "  invoice_date  unit_price         country  customer_id  \n",
       "0    29-Nov-16        2.55  United Kingdom      17850.0  \n",
       "1    29-Nov-16        3.39  United Kingdom      17850.0  \n",
       "2    29-Nov-16        2.75  United Kingdom      17850.0  "
      ]
     },
     "execution_count": 15,
     "metadata": {},
     "output_type": "execute_result"
    }
   ],
   "source": [
    "# create refence to use missing values\n",
    "df_backup = pd.DataFrame(df_missing['invoice_no'].drop_duplicates())\n",
    "df_backup['customer_id'] = np.arange(19000,19000+len(df_backup),1)\n",
    "\n",
    "# merge original with reference datafram\n",
    "df1 = pd.merge(df1, df_backup, on='invoice_no', how='left')\n",
    "\n",
    "# coalesce\n",
    "df1['customer_id'] = df1['customer_id_x'].combine_first(df1['customer_id_y'])\n",
    "\n",
    "# drop extra columns\n",
    "df1 = df1.drop(columns=['customer_id_x','customer_id_y'], axis=1)\n",
    "\n",
    "df1.head(3)"
   ]
  },
  {
   "cell_type": "code",
   "execution_count": 16,
   "metadata": {
    "ExecuteTime": {
     "end_time": "2022-05-31T01:38:03.231894Z",
     "start_time": "2022-05-31T01:38:03.031849Z"
    }
   },
   "outputs": [
    {
     "data": {
      "text/plain": [
       "invoice_no         0\n",
       "stock_code         0\n",
       "description     1454\n",
       "quantity           0\n",
       "invoice_date       0\n",
       "unit_price         0\n",
       "country            0\n",
       "customer_id        0\n",
       "dtype: int64"
      ]
     },
     "execution_count": 16,
     "metadata": {},
     "output_type": "execute_result"
    }
   ],
   "source": [
    "df1.isna().sum()"
   ]
  },
  {
   "cell_type": "code",
   "execution_count": 17,
   "metadata": {
    "ExecuteTime": {
     "end_time": "2022-05-31T01:38:03.278863Z",
     "start_time": "2022-05-31T01:38:03.271861Z"
    }
   },
   "outputs": [],
   "source": [
    "# remove na\n",
    "#df1 = df1.dropna(subset=['description','customer_id'])\n",
    "#print('Removed data: {:.2f}'.format(1-(df1.shape[0]/df_raw.shape[0])))"
   ]
  },
  {
   "cell_type": "code",
   "execution_count": 18,
   "metadata": {
    "ExecuteTime": {
     "end_time": "2022-05-31T01:38:03.527891Z",
     "start_time": "2022-05-31T01:38:03.503886Z"
    }
   },
   "outputs": [
    {
     "data": {
      "text/html": [
       "<div>\n",
       "<style scoped>\n",
       "    .dataframe tbody tr th:only-of-type {\n",
       "        vertical-align: middle;\n",
       "    }\n",
       "\n",
       "    .dataframe tbody tr th {\n",
       "        vertical-align: top;\n",
       "    }\n",
       "\n",
       "    .dataframe thead th {\n",
       "        text-align: right;\n",
       "    }\n",
       "</style>\n",
       "<table border=\"1\" class=\"dataframe\">\n",
       "  <thead>\n",
       "    <tr style=\"text-align: right;\">\n",
       "      <th></th>\n",
       "      <th>invoice_no</th>\n",
       "      <th>stock_code</th>\n",
       "      <th>description</th>\n",
       "      <th>quantity</th>\n",
       "      <th>invoice_date</th>\n",
       "      <th>unit_price</th>\n",
       "      <th>customer_id</th>\n",
       "      <th>country</th>\n",
       "    </tr>\n",
       "  </thead>\n",
       "  <tbody>\n",
       "    <tr>\n",
       "      <th>541511</th>\n",
       "      <td>581498</td>\n",
       "      <td>71053</td>\n",
       "      <td>WHITE MOROCCAN METAL LANTERN</td>\n",
       "      <td>1.0</td>\n",
       "      <td>7-Dec-17</td>\n",
       "      <td>8.29</td>\n",
       "      <td>NaN</td>\n",
       "      <td>United Kingdom</td>\n",
       "    </tr>\n",
       "    <tr>\n",
       "      <th>541512</th>\n",
       "      <td>581498</td>\n",
       "      <td>72349b</td>\n",
       "      <td>SET/6 PURPLE BUTTERFLY T-LIGHTS</td>\n",
       "      <td>2.0</td>\n",
       "      <td>7-Dec-17</td>\n",
       "      <td>4.13</td>\n",
       "      <td>NaN</td>\n",
       "      <td>United Kingdom</td>\n",
       "    </tr>\n",
       "    <tr>\n",
       "      <th>541513</th>\n",
       "      <td>581498</td>\n",
       "      <td>79321</td>\n",
       "      <td>CHILLI LIGHTS</td>\n",
       "      <td>10.0</td>\n",
       "      <td>7-Dec-17</td>\n",
       "      <td>12.46</td>\n",
       "      <td>NaN</td>\n",
       "      <td>United Kingdom</td>\n",
       "    </tr>\n",
       "    <tr>\n",
       "      <th>541514</th>\n",
       "      <td>581498</td>\n",
       "      <td>82001s</td>\n",
       "      <td>SILVER RECORD COVER FRAME</td>\n",
       "      <td>2.0</td>\n",
       "      <td>7-Dec-17</td>\n",
       "      <td>7.46</td>\n",
       "      <td>NaN</td>\n",
       "      <td>United Kingdom</td>\n",
       "    </tr>\n",
       "    <tr>\n",
       "      <th>541515</th>\n",
       "      <td>581498</td>\n",
       "      <td>82482</td>\n",
       "      <td>WOODEN PICTURE FRAME WHITE FINISH</td>\n",
       "      <td>4.0</td>\n",
       "      <td>7-Dec-17</td>\n",
       "      <td>4.96</td>\n",
       "      <td>NaN</td>\n",
       "      <td>United Kingdom</td>\n",
       "    </tr>\n",
       "    <tr>\n",
       "      <th>541516</th>\n",
       "      <td>581498</td>\n",
       "      <td>82552</td>\n",
       "      <td>WASHROOM METAL SIGN</td>\n",
       "      <td>1.0</td>\n",
       "      <td>7-Dec-17</td>\n",
       "      <td>2.46</td>\n",
       "      <td>NaN</td>\n",
       "      <td>United Kingdom</td>\n",
       "    </tr>\n",
       "    <tr>\n",
       "      <th>541517</th>\n",
       "      <td>581498</td>\n",
       "      <td>82580</td>\n",
       "      <td>BATHROOM METAL SIGN</td>\n",
       "      <td>1.0</td>\n",
       "      <td>7-Dec-17</td>\n",
       "      <td>1.25</td>\n",
       "      <td>NaN</td>\n",
       "      <td>United Kingdom</td>\n",
       "    </tr>\n",
       "    <tr>\n",
       "      <th>541518</th>\n",
       "      <td>581498</td>\n",
       "      <td>82581</td>\n",
       "      <td>TOILET METAL SIGN</td>\n",
       "      <td>1.0</td>\n",
       "      <td>7-Dec-17</td>\n",
       "      <td>1.25</td>\n",
       "      <td>NaN</td>\n",
       "      <td>United Kingdom</td>\n",
       "    </tr>\n",
       "    <tr>\n",
       "      <th>541519</th>\n",
       "      <td>581498</td>\n",
       "      <td>82600</td>\n",
       "      <td>N0 SINGING METAL SIGN</td>\n",
       "      <td>4.0</td>\n",
       "      <td>7-Dec-17</td>\n",
       "      <td>4.13</td>\n",
       "      <td>NaN</td>\n",
       "      <td>United Kingdom</td>\n",
       "    </tr>\n",
       "    <tr>\n",
       "      <th>541520</th>\n",
       "      <td>581498</td>\n",
       "      <td>84029E</td>\n",
       "      <td>RED WOOLLY HOTTIE WHITE HEART.</td>\n",
       "      <td>4.0</td>\n",
       "      <td>7-Dec-17</td>\n",
       "      <td>8.29</td>\n",
       "      <td>NaN</td>\n",
       "      <td>United Kingdom</td>\n",
       "    </tr>\n",
       "    <tr>\n",
       "      <th>541521</th>\n",
       "      <td>581498</td>\n",
       "      <td>84032A</td>\n",
       "      <td>CHARLIE+LOLA PINK HOT WATER BOTTLE</td>\n",
       "      <td>4.0</td>\n",
       "      <td>7-Dec-17</td>\n",
       "      <td>5.79</td>\n",
       "      <td>NaN</td>\n",
       "      <td>United Kingdom</td>\n",
       "    </tr>\n",
       "    <tr>\n",
       "      <th>541522</th>\n",
       "      <td>581498</td>\n",
       "      <td>84032B</td>\n",
       "      <td>CHARLIE + LOLA RED HOT WATER BOTTLE</td>\n",
       "      <td>3.0</td>\n",
       "      <td>7-Dec-17</td>\n",
       "      <td>3.29</td>\n",
       "      <td>NaN</td>\n",
       "      <td>United Kingdom</td>\n",
       "    </tr>\n",
       "    <tr>\n",
       "      <th>541523</th>\n",
       "      <td>581498</td>\n",
       "      <td>84375</td>\n",
       "      <td>SET OF 20 KIDS COOKIE CUTTERS</td>\n",
       "      <td>3.0</td>\n",
       "      <td>7-Dec-17</td>\n",
       "      <td>4.13</td>\n",
       "      <td>NaN</td>\n",
       "      <td>United Kingdom</td>\n",
       "    </tr>\n",
       "    <tr>\n",
       "      <th>541524</th>\n",
       "      <td>581498</td>\n",
       "      <td>84509a</td>\n",
       "      <td>SET OF 4 ENGLISH ROSE PLACEMATS</td>\n",
       "      <td>1.0</td>\n",
       "      <td>7-Dec-17</td>\n",
       "      <td>7.46</td>\n",
       "      <td>NaN</td>\n",
       "      <td>United Kingdom</td>\n",
       "    </tr>\n",
       "    <tr>\n",
       "      <th>541525</th>\n",
       "      <td>581498</td>\n",
       "      <td>84558a</td>\n",
       "      <td>3D DOG PICTURE PLAYING CARDS</td>\n",
       "      <td>1.0</td>\n",
       "      <td>7-Dec-17</td>\n",
       "      <td>5.79</td>\n",
       "      <td>NaN</td>\n",
       "      <td>United Kingdom</td>\n",
       "    </tr>\n",
       "    <tr>\n",
       "      <th>541526</th>\n",
       "      <td>581498</td>\n",
       "      <td>84832</td>\n",
       "      <td>ZINC WILLIE WINKIE  CANDLE STICK</td>\n",
       "      <td>26.0</td>\n",
       "      <td>7-Dec-17</td>\n",
       "      <td>1.63</td>\n",
       "      <td>NaN</td>\n",
       "      <td>United Kingdom</td>\n",
       "    </tr>\n",
       "    <tr>\n",
       "      <th>541527</th>\n",
       "      <td>581498</td>\n",
       "      <td>84968e</td>\n",
       "      <td>SET OF 16 VINTAGE BLACK CUTLERY</td>\n",
       "      <td>1.0</td>\n",
       "      <td>7-Dec-17</td>\n",
       "      <td>24.96</td>\n",
       "      <td>NaN</td>\n",
       "      <td>United Kingdom</td>\n",
       "    </tr>\n",
       "    <tr>\n",
       "      <th>541528</th>\n",
       "      <td>581498</td>\n",
       "      <td>84970s</td>\n",
       "      <td>HANGING HEART ZINC T-LIGHT HOLDER</td>\n",
       "      <td>1.0</td>\n",
       "      <td>7-Dec-17</td>\n",
       "      <td>2.08</td>\n",
       "      <td>NaN</td>\n",
       "      <td>United Kingdom</td>\n",
       "    </tr>\n",
       "    <tr>\n",
       "      <th>541529</th>\n",
       "      <td>581498</td>\n",
       "      <td>84997a</td>\n",
       "      <td>CHILDRENS CUTLERY POLKADOT GREEN</td>\n",
       "      <td>2.0</td>\n",
       "      <td>7-Dec-17</td>\n",
       "      <td>8.29</td>\n",
       "      <td>NaN</td>\n",
       "      <td>United Kingdom</td>\n",
       "    </tr>\n",
       "    <tr>\n",
       "      <th>541530</th>\n",
       "      <td>581498</td>\n",
       "      <td>84997b</td>\n",
       "      <td>CHILDRENS CUTLERY RETROSPOT RED</td>\n",
       "      <td>3.0</td>\n",
       "      <td>7-Dec-17</td>\n",
       "      <td>8.29</td>\n",
       "      <td>NaN</td>\n",
       "      <td>United Kingdom</td>\n",
       "    </tr>\n",
       "    <tr>\n",
       "      <th>541531</th>\n",
       "      <td>581498</td>\n",
       "      <td>84997d</td>\n",
       "      <td>CHILDRENS CUTLERY POLKADOT PINK</td>\n",
       "      <td>1.0</td>\n",
       "      <td>7-Dec-17</td>\n",
       "      <td>8.29</td>\n",
       "      <td>NaN</td>\n",
       "      <td>United Kingdom</td>\n",
       "    </tr>\n",
       "    <tr>\n",
       "      <th>541532</th>\n",
       "      <td>581498</td>\n",
       "      <td>85038</td>\n",
       "      <td>6 CHOCOLATE LOVE HEART T-LIGHTS</td>\n",
       "      <td>1.0</td>\n",
       "      <td>7-Dec-17</td>\n",
       "      <td>4.13</td>\n",
       "      <td>NaN</td>\n",
       "      <td>United Kingdom</td>\n",
       "    </tr>\n",
       "    <tr>\n",
       "      <th>541533</th>\n",
       "      <td>581498</td>\n",
       "      <td>85048</td>\n",
       "      <td>15CM CHRISTMAS GLASS BALL 20 LIGHTS</td>\n",
       "      <td>1.0</td>\n",
       "      <td>7-Dec-17</td>\n",
       "      <td>16.63</td>\n",
       "      <td>NaN</td>\n",
       "      <td>United Kingdom</td>\n",
       "    </tr>\n",
       "    <tr>\n",
       "      <th>541534</th>\n",
       "      <td>581498</td>\n",
       "      <td>85049a</td>\n",
       "      <td>TRADITIONAL CHRISTMAS RIBBONS</td>\n",
       "      <td>5.0</td>\n",
       "      <td>7-Dec-17</td>\n",
       "      <td>3.29</td>\n",
       "      <td>NaN</td>\n",
       "      <td>United Kingdom</td>\n",
       "    </tr>\n",
       "    <tr>\n",
       "      <th>541535</th>\n",
       "      <td>581498</td>\n",
       "      <td>85049e</td>\n",
       "      <td>SCANDINAVIAN REDS RIBBONS</td>\n",
       "      <td>4.0</td>\n",
       "      <td>7-Dec-17</td>\n",
       "      <td>3.29</td>\n",
       "      <td>NaN</td>\n",
       "      <td>United Kingdom</td>\n",
       "    </tr>\n",
       "    <tr>\n",
       "      <th>541536</th>\n",
       "      <td>581498</td>\n",
       "      <td>85099B</td>\n",
       "      <td>JUMBO BAG RED RETROSPOT</td>\n",
       "      <td>5.0</td>\n",
       "      <td>7-Dec-17</td>\n",
       "      <td>4.13</td>\n",
       "      <td>NaN</td>\n",
       "      <td>United Kingdom</td>\n",
       "    </tr>\n",
       "    <tr>\n",
       "      <th>541537</th>\n",
       "      <td>581498</td>\n",
       "      <td>85099C</td>\n",
       "      <td>JUMBO  BAG BAROQUE BLACK WHITE</td>\n",
       "      <td>4.0</td>\n",
       "      <td>7-Dec-17</td>\n",
       "      <td>4.13</td>\n",
       "      <td>NaN</td>\n",
       "      <td>United Kingdom</td>\n",
       "    </tr>\n",
       "    <tr>\n",
       "      <th>541538</th>\n",
       "      <td>581498</td>\n",
       "      <td>85150</td>\n",
       "      <td>LADIES &amp; GENTLEMEN METAL SIGN</td>\n",
       "      <td>1.0</td>\n",
       "      <td>7-Dec-17</td>\n",
       "      <td>4.96</td>\n",
       "      <td>NaN</td>\n",
       "      <td>United Kingdom</td>\n",
       "    </tr>\n",
       "    <tr>\n",
       "      <th>541539</th>\n",
       "      <td>581498</td>\n",
       "      <td>85174</td>\n",
       "      <td>S/4 CACTI CANDLES</td>\n",
       "      <td>1.0</td>\n",
       "      <td>7-Dec-17</td>\n",
       "      <td>10.79</td>\n",
       "      <td>NaN</td>\n",
       "      <td>United Kingdom</td>\n",
       "    </tr>\n",
       "    <tr>\n",
       "      <th>541540</th>\n",
       "      <td>581498</td>\n",
       "      <td>DOT</td>\n",
       "      <td>DOTCOM POSTAGE</td>\n",
       "      <td>1.0</td>\n",
       "      <td>7-Dec-17</td>\n",
       "      <td>1714.17</td>\n",
       "      <td>NaN</td>\n",
       "      <td>United Kingdom</td>\n",
       "    </tr>\n",
       "  </tbody>\n",
       "</table>\n",
       "</div>"
      ],
      "text/plain": [
       "       invoice_no stock_code                          description  quantity  \\\n",
       "541511     581498      71053         WHITE MOROCCAN METAL LANTERN       1.0   \n",
       "541512     581498     72349b      SET/6 PURPLE BUTTERFLY T-LIGHTS       2.0   \n",
       "541513     581498      79321                        CHILLI LIGHTS      10.0   \n",
       "541514     581498     82001s            SILVER RECORD COVER FRAME       2.0   \n",
       "541515     581498      82482    WOODEN PICTURE FRAME WHITE FINISH       4.0   \n",
       "541516     581498      82552                  WASHROOM METAL SIGN       1.0   \n",
       "541517     581498      82580                  BATHROOM METAL SIGN       1.0   \n",
       "541518     581498      82581                    TOILET METAL SIGN       1.0   \n",
       "541519     581498      82600                N0 SINGING METAL SIGN       4.0   \n",
       "541520     581498     84029E       RED WOOLLY HOTTIE WHITE HEART.       4.0   \n",
       "541521     581498     84032A   CHARLIE+LOLA PINK HOT WATER BOTTLE       4.0   \n",
       "541522     581498     84032B  CHARLIE + LOLA RED HOT WATER BOTTLE       3.0   \n",
       "541523     581498      84375        SET OF 20 KIDS COOKIE CUTTERS       3.0   \n",
       "541524     581498     84509a      SET OF 4 ENGLISH ROSE PLACEMATS       1.0   \n",
       "541525     581498     84558a         3D DOG PICTURE PLAYING CARDS       1.0   \n",
       "541526     581498      84832     ZINC WILLIE WINKIE  CANDLE STICK      26.0   \n",
       "541527     581498     84968e      SET OF 16 VINTAGE BLACK CUTLERY       1.0   \n",
       "541528     581498     84970s    HANGING HEART ZINC T-LIGHT HOLDER       1.0   \n",
       "541529     581498     84997a    CHILDRENS CUTLERY POLKADOT GREEN        2.0   \n",
       "541530     581498     84997b     CHILDRENS CUTLERY RETROSPOT RED        3.0   \n",
       "541531     581498     84997d      CHILDRENS CUTLERY POLKADOT PINK       1.0   \n",
       "541532     581498      85038      6 CHOCOLATE LOVE HEART T-LIGHTS       1.0   \n",
       "541533     581498      85048  15CM CHRISTMAS GLASS BALL 20 LIGHTS       1.0   \n",
       "541534     581498     85049a        TRADITIONAL CHRISTMAS RIBBONS       5.0   \n",
       "541535     581498     85049e            SCANDINAVIAN REDS RIBBONS       4.0   \n",
       "541536     581498     85099B              JUMBO BAG RED RETROSPOT       5.0   \n",
       "541537     581498     85099C       JUMBO  BAG BAROQUE BLACK WHITE       4.0   \n",
       "541538     581498      85150        LADIES & GENTLEMEN METAL SIGN       1.0   \n",
       "541539     581498      85174                    S/4 CACTI CANDLES       1.0   \n",
       "541540     581498        DOT                       DOTCOM POSTAGE       1.0   \n",
       "\n",
       "       invoice_date  unit_price  customer_id         country  \n",
       "541511     7-Dec-17        8.29          NaN  United Kingdom  \n",
       "541512     7-Dec-17        4.13          NaN  United Kingdom  \n",
       "541513     7-Dec-17       12.46          NaN  United Kingdom  \n",
       "541514     7-Dec-17        7.46          NaN  United Kingdom  \n",
       "541515     7-Dec-17        4.96          NaN  United Kingdom  \n",
       "541516     7-Dec-17        2.46          NaN  United Kingdom  \n",
       "541517     7-Dec-17        1.25          NaN  United Kingdom  \n",
       "541518     7-Dec-17        1.25          NaN  United Kingdom  \n",
       "541519     7-Dec-17        4.13          NaN  United Kingdom  \n",
       "541520     7-Dec-17        8.29          NaN  United Kingdom  \n",
       "541521     7-Dec-17        5.79          NaN  United Kingdom  \n",
       "541522     7-Dec-17        3.29          NaN  United Kingdom  \n",
       "541523     7-Dec-17        4.13          NaN  United Kingdom  \n",
       "541524     7-Dec-17        7.46          NaN  United Kingdom  \n",
       "541525     7-Dec-17        5.79          NaN  United Kingdom  \n",
       "541526     7-Dec-17        1.63          NaN  United Kingdom  \n",
       "541527     7-Dec-17       24.96          NaN  United Kingdom  \n",
       "541528     7-Dec-17        2.08          NaN  United Kingdom  \n",
       "541529     7-Dec-17        8.29          NaN  United Kingdom  \n",
       "541530     7-Dec-17        8.29          NaN  United Kingdom  \n",
       "541531     7-Dec-17        8.29          NaN  United Kingdom  \n",
       "541532     7-Dec-17        4.13          NaN  United Kingdom  \n",
       "541533     7-Dec-17       16.63          NaN  United Kingdom  \n",
       "541534     7-Dec-17        3.29          NaN  United Kingdom  \n",
       "541535     7-Dec-17        3.29          NaN  United Kingdom  \n",
       "541536     7-Dec-17        4.13          NaN  United Kingdom  \n",
       "541537     7-Dec-17        4.13          NaN  United Kingdom  \n",
       "541538     7-Dec-17        4.96          NaN  United Kingdom  \n",
       "541539     7-Dec-17       10.79          NaN  United Kingdom  \n",
       "541540     7-Dec-17     1714.17          NaN  United Kingdom  "
      ]
     },
     "execution_count": 18,
     "metadata": {},
     "output_type": "execute_result"
    }
   ],
   "source": [
    "df_missing.tail(30)"
   ]
  },
  {
   "cell_type": "markdown",
   "metadata": {},
   "source": [
    "## 1.6. Change dtypes"
   ]
  },
  {
   "cell_type": "code",
   "execution_count": 19,
   "metadata": {
    "ExecuteTime": {
     "end_time": "2022-05-31T01:38:03.977896Z",
     "start_time": "2022-05-31T01:38:03.967894Z"
    }
   },
   "outputs": [
    {
     "data": {
      "text/plain": [
       "invoice_no       object\n",
       "stock_code       object\n",
       "description      object\n",
       "quantity        float64\n",
       "invoice_date     object\n",
       "unit_price      float64\n",
       "country          object\n",
       "customer_id     float64\n",
       "dtype: object"
      ]
     },
     "execution_count": 19,
     "metadata": {},
     "output_type": "execute_result"
    }
   ],
   "source": [
    "df1.dtypes"
   ]
  },
  {
   "cell_type": "code",
   "execution_count": 20,
   "metadata": {
    "ExecuteTime": {
     "end_time": "2022-05-31T01:38:04.261437Z",
     "start_time": "2022-05-31T01:38:04.200422Z"
    }
   },
   "outputs": [],
   "source": [
    "# invoice_date\n",
    "df1['invoice_date'] = pd.to_datetime(df1['invoice_date'], format='%d-%b-%y') #format é o formato origiral que está no dataset, para sim a função realizar a formatação\n",
    "\n",
    "# customer_id\n",
    "df1['customer_id'] = df1['customer_id'].astype('int64')"
   ]
  },
  {
   "cell_type": "code",
   "execution_count": 21,
   "metadata": {
    "ExecuteTime": {
     "end_time": "2022-05-31T01:38:04.431926Z",
     "start_time": "2022-05-31T01:38:04.423924Z"
    }
   },
   "outputs": [
    {
     "data": {
      "text/html": [
       "<div>\n",
       "<style scoped>\n",
       "    .dataframe tbody tr th:only-of-type {\n",
       "        vertical-align: middle;\n",
       "    }\n",
       "\n",
       "    .dataframe tbody tr th {\n",
       "        vertical-align: top;\n",
       "    }\n",
       "\n",
       "    .dataframe thead th {\n",
       "        text-align: right;\n",
       "    }\n",
       "</style>\n",
       "<table border=\"1\" class=\"dataframe\">\n",
       "  <thead>\n",
       "    <tr style=\"text-align: right;\">\n",
       "      <th></th>\n",
       "      <th>invoice_no</th>\n",
       "      <th>stock_code</th>\n",
       "      <th>description</th>\n",
       "      <th>quantity</th>\n",
       "      <th>invoice_date</th>\n",
       "      <th>unit_price</th>\n",
       "      <th>country</th>\n",
       "      <th>customer_id</th>\n",
       "    </tr>\n",
       "  </thead>\n",
       "  <tbody>\n",
       "    <tr>\n",
       "      <th>0</th>\n",
       "      <td>536365</td>\n",
       "      <td>85123A</td>\n",
       "      <td>WHITE HANGING HEART T-LIGHT HOLDER</td>\n",
       "      <td>6.0</td>\n",
       "      <td>2016-11-29</td>\n",
       "      <td>2.55</td>\n",
       "      <td>United Kingdom</td>\n",
       "      <td>17850</td>\n",
       "    </tr>\n",
       "    <tr>\n",
       "      <th>1</th>\n",
       "      <td>536365</td>\n",
       "      <td>71053</td>\n",
       "      <td>WHITE METAL LANTERN</td>\n",
       "      <td>6.0</td>\n",
       "      <td>2016-11-29</td>\n",
       "      <td>3.39</td>\n",
       "      <td>United Kingdom</td>\n",
       "      <td>17850</td>\n",
       "    </tr>\n",
       "    <tr>\n",
       "      <th>2</th>\n",
       "      <td>536365</td>\n",
       "      <td>84406B</td>\n",
       "      <td>CREAM CUPID HEARTS COAT HANGER</td>\n",
       "      <td>8.0</td>\n",
       "      <td>2016-11-29</td>\n",
       "      <td>2.75</td>\n",
       "      <td>United Kingdom</td>\n",
       "      <td>17850</td>\n",
       "    </tr>\n",
       "    <tr>\n",
       "      <th>3</th>\n",
       "      <td>536365</td>\n",
       "      <td>84029G</td>\n",
       "      <td>KNITTED UNION FLAG HOT WATER BOTTLE</td>\n",
       "      <td>6.0</td>\n",
       "      <td>2016-11-29</td>\n",
       "      <td>3.39</td>\n",
       "      <td>United Kingdom</td>\n",
       "      <td>17850</td>\n",
       "    </tr>\n",
       "    <tr>\n",
       "      <th>4</th>\n",
       "      <td>536365</td>\n",
       "      <td>84029E</td>\n",
       "      <td>RED WOOLLY HOTTIE WHITE HEART.</td>\n",
       "      <td>6.0</td>\n",
       "      <td>2016-11-29</td>\n",
       "      <td>3.39</td>\n",
       "      <td>United Kingdom</td>\n",
       "      <td>17850</td>\n",
       "    </tr>\n",
       "  </tbody>\n",
       "</table>\n",
       "</div>"
      ],
      "text/plain": [
       "  invoice_no stock_code                          description  quantity  \\\n",
       "0     536365     85123A   WHITE HANGING HEART T-LIGHT HOLDER       6.0   \n",
       "1     536365      71053                  WHITE METAL LANTERN       6.0   \n",
       "2     536365     84406B       CREAM CUPID HEARTS COAT HANGER       8.0   \n",
       "3     536365     84029G  KNITTED UNION FLAG HOT WATER BOTTLE       6.0   \n",
       "4     536365     84029E       RED WOOLLY HOTTIE WHITE HEART.       6.0   \n",
       "\n",
       "  invoice_date  unit_price         country  customer_id  \n",
       "0   2016-11-29        2.55  United Kingdom        17850  \n",
       "1   2016-11-29        3.39  United Kingdom        17850  \n",
       "2   2016-11-29        2.75  United Kingdom        17850  \n",
       "3   2016-11-29        3.39  United Kingdom        17850  \n",
       "4   2016-11-29        3.39  United Kingdom        17850  "
      ]
     },
     "execution_count": 21,
     "metadata": {},
     "output_type": "execute_result"
    }
   ],
   "source": [
    "df1.head()"
   ]
  },
  {
   "cell_type": "markdown",
   "metadata": {},
   "source": [
    "## 1.7. Descriptive Statistics"
   ]
  },
  {
   "cell_type": "code",
   "execution_count": 22,
   "metadata": {
    "ExecuteTime": {
     "end_time": "2022-05-31T01:38:04.902954Z",
     "start_time": "2022-05-31T01:38:04.887950Z"
    }
   },
   "outputs": [],
   "source": [
    "num_att = df1.select_dtypes(include=['float64','int64'])\n",
    "cat_att = df1.select_dtypes(exclude=['float64','int64', 'datetime64[ns]'])"
   ]
  },
  {
   "cell_type": "markdown",
   "metadata": {},
   "source": [
    "### 1.7.1. Numerical Attributes"
   ]
  },
  {
   "cell_type": "code",
   "execution_count": 23,
   "metadata": {
    "ExecuteTime": {
     "end_time": "2022-05-31T01:38:05.432002Z",
     "start_time": "2022-05-31T01:38:05.359986Z"
    }
   },
   "outputs": [
    {
     "data": {
      "text/html": [
       "<div>\n",
       "<style scoped>\n",
       "    .dataframe tbody tr th:only-of-type {\n",
       "        vertical-align: middle;\n",
       "    }\n",
       "\n",
       "    .dataframe tbody tr th {\n",
       "        vertical-align: top;\n",
       "    }\n",
       "\n",
       "    .dataframe thead th {\n",
       "        text-align: right;\n",
       "    }\n",
       "</style>\n",
       "<table border=\"1\" class=\"dataframe\">\n",
       "  <thead>\n",
       "    <tr style=\"text-align: right;\">\n",
       "      <th></th>\n",
       "      <th>attributes</th>\n",
       "      <th>min</th>\n",
       "      <th>max</th>\n",
       "      <th>range</th>\n",
       "      <th>mean</th>\n",
       "      <th>median</th>\n",
       "      <th>std</th>\n",
       "      <th>skew</th>\n",
       "      <th>kurtosis</th>\n",
       "    </tr>\n",
       "  </thead>\n",
       "  <tbody>\n",
       "    <tr>\n",
       "      <th>0</th>\n",
       "      <td>quantity</td>\n",
       "      <td>-74215.00</td>\n",
       "      <td>74215.0</td>\n",
       "      <td>148430.00</td>\n",
       "      <td>9.587927</td>\n",
       "      <td>9.587927</td>\n",
       "      <td>153.292079</td>\n",
       "      <td>-0.488860</td>\n",
       "      <td>205255.513778</td>\n",
       "    </tr>\n",
       "    <tr>\n",
       "      <th>1</th>\n",
       "      <td>unit_price</td>\n",
       "      <td>-11062.06</td>\n",
       "      <td>38970.0</td>\n",
       "      <td>50032.06</td>\n",
       "      <td>4.636533</td>\n",
       "      <td>4.636533</td>\n",
       "      <td>97.302142</td>\n",
       "      <td>185.470194</td>\n",
       "      <td>58350.655856</td>\n",
       "    </tr>\n",
       "    <tr>\n",
       "      <th>2</th>\n",
       "      <td>customer_id</td>\n",
       "      <td>12346.00</td>\n",
       "      <td>22696.0</td>\n",
       "      <td>10350.00</td>\n",
       "      <td>16679.693656</td>\n",
       "      <td>16679.693656</td>\n",
       "      <td>2907.335598</td>\n",
       "      <td>0.490492</td>\n",
       "      <td>-0.798387</td>\n",
       "    </tr>\n",
       "  </tbody>\n",
       "</table>\n",
       "</div>"
      ],
      "text/plain": [
       "    attributes       min      max      range          mean        median  \\\n",
       "0     quantity -74215.00  74215.0  148430.00      9.587927      9.587927   \n",
       "1   unit_price -11062.06  38970.0   50032.06      4.636533      4.636533   \n",
       "2  customer_id  12346.00  22696.0   10350.00  16679.693656  16679.693656   \n",
       "\n",
       "           std        skew       kurtosis  \n",
       "0   153.292079   -0.488860  205255.513778  \n",
       "1    97.302142  185.470194   58350.655856  \n",
       "2  2907.335598    0.490492      -0.798387  "
      ]
     },
     "execution_count": 23,
     "metadata": {},
     "output_type": "execute_result"
    }
   ],
   "source": [
    "# central tedency\n",
    "ct1 = pd.DataFrame(num_att.apply(np.mean)).T\n",
    "ct2 = pd.DataFrame(num_att.apply(np.mean)).T\n",
    "\n",
    "# dispersion metrics\n",
    "d1 = pd.DataFrame(num_att.apply(np.std)).T\n",
    "d2 = pd.DataFrame(num_att.apply(np.min)).T\n",
    "d3 = pd.DataFrame(num_att.apply(np.max)).T\n",
    "d4 = pd.DataFrame(num_att.apply(lambda x: x.max() - x.min())).T\n",
    "d5 = pd.DataFrame(num_att.apply(lambda x: x.skew())).T\n",
    "d6 = pd.DataFrame(num_att.apply(lambda x: x.kurtosis())).T\n",
    "\n",
    "# concat\n",
    "m = pd.concat([d2,d3,d4,ct1,ct2,d1,d5,d6]).T.reset_index()\n",
    "m.columns = ['attributes','min','max','range','mean','median','std','skew','kurtosis']\n",
    "m"
   ]
  },
  {
   "cell_type": "markdown",
   "metadata": {},
   "source": [
    "### 1.7.2. Categorical Attributes"
   ]
  },
  {
   "cell_type": "code",
   "execution_count": 24,
   "metadata": {
    "ExecuteTime": {
     "end_time": "2022-05-31T01:38:05.824356Z",
     "start_time": "2022-05-31T01:38:05.818355Z"
    }
   },
   "outputs": [
    {
     "data": {
      "text/html": [
       "<div>\n",
       "<style scoped>\n",
       "    .dataframe tbody tr th:only-of-type {\n",
       "        vertical-align: middle;\n",
       "    }\n",
       "\n",
       "    .dataframe tbody tr th {\n",
       "        vertical-align: top;\n",
       "    }\n",
       "\n",
       "    .dataframe thead th {\n",
       "        text-align: right;\n",
       "    }\n",
       "</style>\n",
       "<table border=\"1\" class=\"dataframe\">\n",
       "  <thead>\n",
       "    <tr style=\"text-align: right;\">\n",
       "      <th></th>\n",
       "      <th>invoice_no</th>\n",
       "      <th>stock_code</th>\n",
       "      <th>description</th>\n",
       "      <th>country</th>\n",
       "    </tr>\n",
       "  </thead>\n",
       "  <tbody>\n",
       "    <tr>\n",
       "      <th>0</th>\n",
       "      <td>536365</td>\n",
       "      <td>85123A</td>\n",
       "      <td>WHITE HANGING HEART T-LIGHT HOLDER</td>\n",
       "      <td>United Kingdom</td>\n",
       "    </tr>\n",
       "    <tr>\n",
       "      <th>1</th>\n",
       "      <td>536365</td>\n",
       "      <td>71053</td>\n",
       "      <td>WHITE METAL LANTERN</td>\n",
       "      <td>United Kingdom</td>\n",
       "    </tr>\n",
       "    <tr>\n",
       "      <th>2</th>\n",
       "      <td>536365</td>\n",
       "      <td>84406B</td>\n",
       "      <td>CREAM CUPID HEARTS COAT HANGER</td>\n",
       "      <td>United Kingdom</td>\n",
       "    </tr>\n",
       "  </tbody>\n",
       "</table>\n",
       "</div>"
      ],
      "text/plain": [
       "  invoice_no stock_code                         description         country\n",
       "0     536365     85123A  WHITE HANGING HEART T-LIGHT HOLDER  United Kingdom\n",
       "1     536365      71053                 WHITE METAL LANTERN  United Kingdom\n",
       "2     536365     84406B      CREAM CUPID HEARTS COAT HANGER  United Kingdom"
      ]
     },
     "execution_count": 24,
     "metadata": {},
     "output_type": "execute_result"
    }
   ],
   "source": [
    "cat_att.head(3)"
   ]
  },
  {
   "cell_type": "markdown",
   "metadata": {},
   "source": [
    "### 1.7.2.1 Invoice Number"
   ]
  },
  {
   "cell_type": "code",
   "execution_count": 25,
   "metadata": {
    "ExecuteTime": {
     "end_time": "2022-05-31T01:38:06.630114Z",
     "start_time": "2022-05-31T01:38:06.264032Z"
    }
   },
   "outputs": [
    {
     "name": "stdout",
     "output_type": "stream",
     "text": [
      "Number of invoice with letters in code: 3821\n"
     ]
    }
   ],
   "source": [
    "#invoice number\n",
    "invoice_inv = cat_att.loc[cat_att['invoice_no'].apply(lambda x: bool(re.search('[^0-9]+',x)))]\n",
    "print('Number of invoice with letters in code: {}'.format(len(invoice_inv['invoice_no'].unique())))"
   ]
  },
  {
   "cell_type": "code",
   "execution_count": 26,
   "metadata": {
    "ExecuteTime": {
     "end_time": "2022-05-31T01:38:06.646118Z",
     "start_time": "2022-05-31T01:38:06.631114Z"
    }
   },
   "outputs": [
    {
     "name": "stdout",
     "output_type": "stream",
     "text": [
      "Invoices with letter in code: 9224\n",
      "Rows with negative quantity: 10545\n"
     ]
    }
   ],
   "source": [
    "# registros com quantidade negativa, tem letras no código dos invoices\n",
    "print('Invoices with letter in code: {}'.format(len(invoice_inv)))\n",
    "print('Rows with negative quantity: {}'.format(len(df1.loc[df1['quantity'] <0])))"
   ]
  },
  {
   "cell_type": "markdown",
   "metadata": {},
   "source": [
    "### 1.7.2.2 Stock Code"
   ]
  },
  {
   "cell_type": "code",
   "execution_count": 27,
   "metadata": {
    "ExecuteTime": {
     "end_time": "2022-05-31T01:38:07.357515Z",
     "start_time": "2022-05-31T01:38:06.975436Z"
    }
   },
   "outputs": [
    {
     "name": "stdout",
     "output_type": "stream",
     "text": [
      "Number of stock codes with letters in code: 1070\n"
     ]
    }
   ],
   "source": [
    "# stock code 1\n",
    "stock_inv = cat_att.loc[cat_att['stock_code'].apply(lambda x: bool(re.search('[^0-9]+',x))), 'stock_code'].drop_duplicates()\n",
    "print('Number of stock codes with letters in code: {}'.format(len(stock_inv)))"
   ]
  },
  {
   "cell_type": "code",
   "execution_count": 28,
   "metadata": {
    "ExecuteTime": {
     "end_time": "2022-05-31T01:38:07.721202Z",
     "start_time": "2022-05-31T01:38:07.358516Z"
    }
   },
   "outputs": [
    {
     "name": "stdout",
     "output_type": "stream",
     "text": [
      "Number of stock codes string: 12\n"
     ]
    }
   ],
   "source": [
    "# stock code 2\n",
    "stock_inv2 = cat_att.loc[cat_att['stock_code'].apply(lambda x: bool(re.search('^[a-zA-Z]+$',x))), 'stock_code'].drop_duplicates()\n",
    "print('Number of stock codes string: {}'.format(len(stock_inv2)))"
   ]
  },
  {
   "cell_type": "code",
   "execution_count": 29,
   "metadata": {
    "ExecuteTime": {
     "end_time": "2022-05-31T01:38:07.737161Z",
     "start_time": "2022-05-31T01:38:07.722204Z"
    }
   },
   "outputs": [
    {
     "name": "stdout",
     "output_type": "stream",
     "text": [
      "Stock Codes to remove: ['POST', 'D', 'DOT', 'M', 'S', 'AMAZONFEE', 'm', 'DCGSSBOY', 'DCGSSGIRL', 'PADS', 'B', 'CRUK']\n"
     ]
    }
   ],
   "source": [
    "stock_inv2 = stock_inv2.to_list()\n",
    "print('Stock Codes to remove: {}'.format(stock_inv2))"
   ]
  },
  {
   "cell_type": "code",
   "execution_count": 30,
   "metadata": {
    "ExecuteTime": {
     "end_time": "2022-05-31T01:38:07.769171Z",
     "start_time": "2022-05-31T01:38:07.738162Z"
    }
   },
   "outputs": [
    {
     "data": {
      "text/html": [
       "<div>\n",
       "<style scoped>\n",
       "    .dataframe tbody tr th:only-of-type {\n",
       "        vertical-align: middle;\n",
       "    }\n",
       "\n",
       "    .dataframe tbody tr th {\n",
       "        vertical-align: top;\n",
       "    }\n",
       "\n",
       "    .dataframe thead th {\n",
       "        text-align: right;\n",
       "    }\n",
       "</style>\n",
       "<table border=\"1\" class=\"dataframe\">\n",
       "  <thead>\n",
       "    <tr style=\"text-align: right;\">\n",
       "      <th></th>\n",
       "      <th>invoice_no</th>\n",
       "      <th>stock_code</th>\n",
       "      <th>description</th>\n",
       "      <th>quantity</th>\n",
       "      <th>invoice_date</th>\n",
       "      <th>unit_price</th>\n",
       "      <th>country</th>\n",
       "      <th>customer_id</th>\n",
       "    </tr>\n",
       "  </thead>\n",
       "  <tbody>\n",
       "    <tr>\n",
       "      <th>313348</th>\n",
       "      <td>C564763</td>\n",
       "      <td>CRUK</td>\n",
       "      <td>CRUK Commission</td>\n",
       "      <td>-1.0</td>\n",
       "      <td>2017-08-28</td>\n",
       "      <td>1.60</td>\n",
       "      <td>United Kingdom</td>\n",
       "      <td>14096</td>\n",
       "    </tr>\n",
       "    <tr>\n",
       "      <th>319774</th>\n",
       "      <td>C565382</td>\n",
       "      <td>CRUK</td>\n",
       "      <td>CRUK Commission</td>\n",
       "      <td>-1.0</td>\n",
       "      <td>2017-08-31</td>\n",
       "      <td>13.01</td>\n",
       "      <td>United Kingdom</td>\n",
       "      <td>14096</td>\n",
       "    </tr>\n",
       "    <tr>\n",
       "      <th>329433</th>\n",
       "      <td>C566216</td>\n",
       "      <td>CRUK</td>\n",
       "      <td>CRUK Commission</td>\n",
       "      <td>-1.0</td>\n",
       "      <td>2017-09-07</td>\n",
       "      <td>15.96</td>\n",
       "      <td>United Kingdom</td>\n",
       "      <td>14096</td>\n",
       "    </tr>\n",
       "    <tr>\n",
       "      <th>334453</th>\n",
       "      <td>C566565</td>\n",
       "      <td>CRUK</td>\n",
       "      <td>CRUK Commission</td>\n",
       "      <td>-1.0</td>\n",
       "      <td>2017-09-11</td>\n",
       "      <td>52.24</td>\n",
       "      <td>United Kingdom</td>\n",
       "      <td>14096</td>\n",
       "    </tr>\n",
       "    <tr>\n",
       "      <th>346535</th>\n",
       "      <td>C567655</td>\n",
       "      <td>CRUK</td>\n",
       "      <td>CRUK Commission</td>\n",
       "      <td>-1.0</td>\n",
       "      <td>2017-09-19</td>\n",
       "      <td>608.66</td>\n",
       "      <td>United Kingdom</td>\n",
       "      <td>14096</td>\n",
       "    </tr>\n",
       "    <tr>\n",
       "      <th>357024</th>\n",
       "      <td>C568345</td>\n",
       "      <td>CRUK</td>\n",
       "      <td>CRUK Commission</td>\n",
       "      <td>-1.0</td>\n",
       "      <td>2017-09-24</td>\n",
       "      <td>447.56</td>\n",
       "      <td>United Kingdom</td>\n",
       "      <td>14096</td>\n",
       "    </tr>\n",
       "    <tr>\n",
       "      <th>368085</th>\n",
       "      <td>C569245</td>\n",
       "      <td>CRUK</td>\n",
       "      <td>CRUK Commission</td>\n",
       "      <td>-1.0</td>\n",
       "      <td>2017-10-01</td>\n",
       "      <td>361.59</td>\n",
       "      <td>United Kingdom</td>\n",
       "      <td>14096</td>\n",
       "    </tr>\n",
       "    <tr>\n",
       "      <th>385168</th>\n",
       "      <td>C570487</td>\n",
       "      <td>CRUK</td>\n",
       "      <td>CRUK Commission</td>\n",
       "      <td>-1.0</td>\n",
       "      <td>2017-10-08</td>\n",
       "      <td>411.92</td>\n",
       "      <td>United Kingdom</td>\n",
       "      <td>14096</td>\n",
       "    </tr>\n",
       "    <tr>\n",
       "      <th>396840</th>\n",
       "      <td>C571440</td>\n",
       "      <td>CRUK</td>\n",
       "      <td>CRUK Commission</td>\n",
       "      <td>-1.0</td>\n",
       "      <td>2017-10-15</td>\n",
       "      <td>495.98</td>\n",
       "      <td>United Kingdom</td>\n",
       "      <td>14096</td>\n",
       "    </tr>\n",
       "    <tr>\n",
       "      <th>411421</th>\n",
       "      <td>C572551</td>\n",
       "      <td>CRUK</td>\n",
       "      <td>CRUK Commission</td>\n",
       "      <td>-1.0</td>\n",
       "      <td>2017-10-22</td>\n",
       "      <td>425.14</td>\n",
       "      <td>United Kingdom</td>\n",
       "      <td>14096</td>\n",
       "    </tr>\n",
       "    <tr>\n",
       "      <th>424876</th>\n",
       "      <td>C573575</td>\n",
       "      <td>CRUK</td>\n",
       "      <td>CRUK Commission</td>\n",
       "      <td>-1.0</td>\n",
       "      <td>2017-10-29</td>\n",
       "      <td>606.00</td>\n",
       "      <td>United Kingdom</td>\n",
       "      <td>14096</td>\n",
       "    </tr>\n",
       "    <tr>\n",
       "      <th>449972</th>\n",
       "      <td>C575606</td>\n",
       "      <td>CRUK</td>\n",
       "      <td>CRUK Commission</td>\n",
       "      <td>-1.0</td>\n",
       "      <td>2017-11-08</td>\n",
       "      <td>517.51</td>\n",
       "      <td>United Kingdom</td>\n",
       "      <td>14096</td>\n",
       "    </tr>\n",
       "    <tr>\n",
       "      <th>462021</th>\n",
       "      <td>C576338</td>\n",
       "      <td>CRUK</td>\n",
       "      <td>CRUK Commission</td>\n",
       "      <td>-1.0</td>\n",
       "      <td>2017-11-12</td>\n",
       "      <td>1038.75</td>\n",
       "      <td>United Kingdom</td>\n",
       "      <td>14096</td>\n",
       "    </tr>\n",
       "    <tr>\n",
       "      <th>489121</th>\n",
       "      <td>C578269</td>\n",
       "      <td>CRUK</td>\n",
       "      <td>CRUK Commission</td>\n",
       "      <td>-1.0</td>\n",
       "      <td>2017-11-21</td>\n",
       "      <td>849.93</td>\n",
       "      <td>United Kingdom</td>\n",
       "      <td>14096</td>\n",
       "    </tr>\n",
       "    <tr>\n",
       "      <th>502840</th>\n",
       "      <td>C579195</td>\n",
       "      <td>CRUK</td>\n",
       "      <td>CRUK Commission</td>\n",
       "      <td>-1.0</td>\n",
       "      <td>2017-11-26</td>\n",
       "      <td>987.14</td>\n",
       "      <td>United Kingdom</td>\n",
       "      <td>14096</td>\n",
       "    </tr>\n",
       "    <tr>\n",
       "      <th>522201</th>\n",
       "      <td>C580726</td>\n",
       "      <td>CRUK</td>\n",
       "      <td>CRUK Commission</td>\n",
       "      <td>-1.0</td>\n",
       "      <td>2017-12-03</td>\n",
       "      <td>1100.44</td>\n",
       "      <td>United Kingdom</td>\n",
       "      <td>14096</td>\n",
       "    </tr>\n",
       "  </tbody>\n",
       "</table>\n",
       "</div>"
      ],
      "text/plain": [
       "       invoice_no stock_code      description  quantity invoice_date  \\\n",
       "313348    C564763       CRUK  CRUK Commission      -1.0   2017-08-28   \n",
       "319774    C565382       CRUK  CRUK Commission      -1.0   2017-08-31   \n",
       "329433    C566216       CRUK  CRUK Commission      -1.0   2017-09-07   \n",
       "334453    C566565       CRUK  CRUK Commission      -1.0   2017-09-11   \n",
       "346535    C567655       CRUK  CRUK Commission      -1.0   2017-09-19   \n",
       "357024    C568345       CRUK  CRUK Commission      -1.0   2017-09-24   \n",
       "368085    C569245       CRUK  CRUK Commission      -1.0   2017-10-01   \n",
       "385168    C570487       CRUK  CRUK Commission      -1.0   2017-10-08   \n",
       "396840    C571440       CRUK  CRUK Commission      -1.0   2017-10-15   \n",
       "411421    C572551       CRUK  CRUK Commission      -1.0   2017-10-22   \n",
       "424876    C573575       CRUK  CRUK Commission      -1.0   2017-10-29   \n",
       "449972    C575606       CRUK  CRUK Commission      -1.0   2017-11-08   \n",
       "462021    C576338       CRUK  CRUK Commission      -1.0   2017-11-12   \n",
       "489121    C578269       CRUK  CRUK Commission      -1.0   2017-11-21   \n",
       "502840    C579195       CRUK  CRUK Commission      -1.0   2017-11-26   \n",
       "522201    C580726       CRUK  CRUK Commission      -1.0   2017-12-03   \n",
       "\n",
       "        unit_price         country  customer_id  \n",
       "313348        1.60  United Kingdom        14096  \n",
       "319774       13.01  United Kingdom        14096  \n",
       "329433       15.96  United Kingdom        14096  \n",
       "334453       52.24  United Kingdom        14096  \n",
       "346535      608.66  United Kingdom        14096  \n",
       "357024      447.56  United Kingdom        14096  \n",
       "368085      361.59  United Kingdom        14096  \n",
       "385168      411.92  United Kingdom        14096  \n",
       "396840      495.98  United Kingdom        14096  \n",
       "411421      425.14  United Kingdom        14096  \n",
       "424876      606.00  United Kingdom        14096  \n",
       "449972      517.51  United Kingdom        14096  \n",
       "462021     1038.75  United Kingdom        14096  \n",
       "489121      849.93  United Kingdom        14096  \n",
       "502840      987.14  United Kingdom        14096  \n",
       "522201     1100.44  United Kingdom        14096  "
      ]
     },
     "execution_count": 30,
     "metadata": {},
     "output_type": "execute_result"
    }
   ],
   "source": [
    "#view table with code\n",
    "df1.loc[df1['stock_code'] == 'CRUK']"
   ]
  },
  {
   "cell_type": "markdown",
   "metadata": {},
   "source": [
    "### 1.7.2.3 Description"
   ]
  },
  {
   "cell_type": "code",
   "execution_count": 31,
   "metadata": {
    "ExecuteTime": {
     "end_time": "2022-05-31T01:38:08.190707Z",
     "start_time": "2022-05-31T01:38:08.175706Z"
    }
   },
   "outputs": [],
   "source": [
    "# remove column"
   ]
  },
  {
   "cell_type": "markdown",
   "metadata": {},
   "source": [
    "### 1.7.2.4 Country"
   ]
  },
  {
   "cell_type": "code",
   "execution_count": 32,
   "metadata": {
    "ExecuteTime": {
     "end_time": "2022-05-31T01:38:08.674783Z",
     "start_time": "2022-05-31T01:38:08.647778Z"
    }
   },
   "outputs": [
    {
     "data": {
      "text/plain": [
       "United Kingdom          0.913873\n",
       "Germany                 0.017631\n",
       "France                  0.015909\n",
       "EIRE                    0.015186\n",
       "Spain                   0.004690\n",
       "Netherlands             0.004395\n",
       "Belgium                 0.003844\n",
       "Switzerland             0.003715\n",
       "Portugal                0.002825\n",
       "Australia               0.002335\n",
       "Norway                  0.002014\n",
       "Italy                   0.001480\n",
       "Channel Islands         0.001405\n",
       "Finland                 0.001282\n",
       "Cyprus                  0.001148\n",
       "Sweden                  0.000857\n",
       "Unspecified             0.000829\n",
       "Austria                 0.000745\n",
       "Denmark                 0.000718\n",
       "Japan                   0.000653\n",
       "Poland                  0.000634\n",
       "Israel                  0.000549\n",
       "USA                     0.000543\n",
       "Hong Kong               0.000532\n",
       "Singapore               0.000425\n",
       "Iceland                 0.000338\n",
       "Canada                  0.000274\n",
       "Greece                  0.000271\n",
       "Malta                   0.000235\n",
       "United Arab Emirates    0.000125\n",
       "European Community      0.000114\n",
       "RSA                     0.000108\n",
       "Lebanon                 0.000084\n",
       "Lithuania               0.000065\n",
       "Brazil                  0.000060\n",
       "Czech Republic          0.000056\n",
       "Bahrain                 0.000035\n",
       "Saudi Arabia            0.000019\n",
       "Name: country, dtype: float64"
      ]
     },
     "execution_count": 32,
     "metadata": {},
     "output_type": "execute_result"
    }
   ],
   "source": [
    "# Rows by country\n",
    "df1['country'].value_counts(normalize=True)"
   ]
  },
  {
   "cell_type": "code",
   "execution_count": 33,
   "metadata": {
    "ExecuteTime": {
     "end_time": "2022-05-31T01:38:08.945648Z",
     "start_time": "2022-05-31T01:38:08.889247Z"
    }
   },
   "outputs": [
    {
     "data": {
      "text/html": [
       "<div>\n",
       "<style scoped>\n",
       "    .dataframe tbody tr th:only-of-type {\n",
       "        vertical-align: middle;\n",
       "    }\n",
       "\n",
       "    .dataframe tbody tr th {\n",
       "        vertical-align: top;\n",
       "    }\n",
       "\n",
       "    .dataframe thead th {\n",
       "        text-align: right;\n",
       "    }\n",
       "</style>\n",
       "<table border=\"1\" class=\"dataframe\">\n",
       "  <thead>\n",
       "    <tr style=\"text-align: right;\">\n",
       "      <th></th>\n",
       "      <th>country</th>\n",
       "      <th>customer_id</th>\n",
       "    </tr>\n",
       "  </thead>\n",
       "  <tbody>\n",
       "    <tr>\n",
       "      <th>0</th>\n",
       "      <td>United Kingdom</td>\n",
       "      <td>7572</td>\n",
       "    </tr>\n",
       "    <tr>\n",
       "      <th>1</th>\n",
       "      <td>Germany</td>\n",
       "      <td>95</td>\n",
       "    </tr>\n",
       "    <tr>\n",
       "      <th>2</th>\n",
       "      <td>France</td>\n",
       "      <td>90</td>\n",
       "    </tr>\n",
       "    <tr>\n",
       "      <th>3</th>\n",
       "      <td>EIRE</td>\n",
       "      <td>44</td>\n",
       "    </tr>\n",
       "    <tr>\n",
       "      <th>4</th>\n",
       "      <td>Spain</td>\n",
       "      <td>31</td>\n",
       "    </tr>\n",
       "    <tr>\n",
       "      <th>5</th>\n",
       "      <td>Belgium</td>\n",
       "      <td>25</td>\n",
       "    </tr>\n",
       "    <tr>\n",
       "      <th>6</th>\n",
       "      <td>Switzerland</td>\n",
       "      <td>24</td>\n",
       "    </tr>\n",
       "    <tr>\n",
       "      <th>7</th>\n",
       "      <td>Portugal</td>\n",
       "      <td>20</td>\n",
       "    </tr>\n",
       "    <tr>\n",
       "      <th>8</th>\n",
       "      <td>Italy</td>\n",
       "      <td>15</td>\n",
       "    </tr>\n",
       "    <tr>\n",
       "      <th>9</th>\n",
       "      <td>Hong Kong</td>\n",
       "      <td>15</td>\n",
       "    </tr>\n",
       "  </tbody>\n",
       "</table>\n",
       "</div>"
      ],
      "text/plain": [
       "          country  customer_id\n",
       "0  United Kingdom         7572\n",
       "1         Germany           95\n",
       "2          France           90\n",
       "3            EIRE           44\n",
       "4           Spain           31\n",
       "5         Belgium           25\n",
       "6     Switzerland           24\n",
       "7        Portugal           20\n",
       "8           Italy           15\n",
       "9       Hong Kong           15"
      ]
     },
     "execution_count": 33,
     "metadata": {},
     "output_type": "execute_result"
    }
   ],
   "source": [
    "# users by country\n",
    "df1[['country',\n",
    "     'customer_id']].drop_duplicates().groupby('country').count().sort_values('customer_id',\n",
    "                                                                              ascending=False).reset_index().head(10)"
   ]
  },
  {
   "cell_type": "markdown",
   "metadata": {},
   "source": [
    "# <font color='black'> 2.0. Filtragem de Varivéis </font>"
   ]
  },
  {
   "cell_type": "code",
   "execution_count": 34,
   "metadata": {
    "ExecuteTime": {
     "end_time": "2022-05-31T01:38:09.381824Z",
     "start_time": "2022-05-31T01:38:09.359819Z"
    }
   },
   "outputs": [],
   "source": [
    "df2 = df1.copy()"
   ]
  },
  {
   "cell_type": "code",
   "execution_count": 35,
   "metadata": {
    "ExecuteTime": {
     "end_time": "2022-05-31T01:38:09.772747Z",
     "start_time": "2022-05-31T01:38:09.592707Z"
    }
   },
   "outputs": [
    {
     "name": "stdout",
     "output_type": "stream",
     "text": [
      "(9987, 7)\n",
      "(522624, 7)\n"
     ]
    }
   ],
   "source": [
    "# == filtering categorical attributes ==\n",
    "# stock code\n",
    "df2 = df2[~df2['stock_code'].isin(stock_inv2)]\n",
    "\n",
    "# description\n",
    "df2 = df2.drop(columns='description', axis=1)\n",
    "\n",
    "# country\n",
    "df2 = df2[~df2['country'].isin(['European Community','Unspecified'])]\n",
    "\n",
    "# bad users\n",
    "df2 = df2[~df2['customer_id'].isin( [16446] )]\n",
    "\n",
    "# split by quantity positive and negative\n",
    "df_returns = df2.loc[df2['quantity'] < 0, :]\n",
    "df_purchase = df2.loc[df2['quantity'] >= 0.04, :]\n",
    "\n",
    "\n",
    "df2 = df2.loc[df2['unit_price'] >= 0.04, :]\n",
    "\n",
    "print(df_returns.shape)\n",
    "print(df_purchase.shape)"
   ]
  },
  {
   "cell_type": "markdown",
   "metadata": {},
   "source": [
    "# <font color='black'> 3.0. Feature Engineering </font>"
   ]
  },
  {
   "cell_type": "code",
   "execution_count": 36,
   "metadata": {
    "ExecuteTime": {
     "end_time": "2022-05-31T01:38:10.318249Z",
     "start_time": "2022-05-31T01:38:10.296244Z"
    }
   },
   "outputs": [],
   "source": [
    "df3 = df2.copy()"
   ]
  },
  {
   "cell_type": "markdown",
   "metadata": {},
   "source": [
    "## 3.1. Feature Creation"
   ]
  },
  {
   "cell_type": "markdown",
   "metadata": {},
   "source": [
    "Criação das variáveis base, em relação ao modelo RFM utilizado com Benchmark para o projeto."
   ]
  },
  {
   "cell_type": "code",
   "execution_count": 37,
   "metadata": {
    "ExecuteTime": {
     "end_time": "2022-05-31T01:38:11.615572Z",
     "start_time": "2022-05-31T01:38:11.592566Z"
    }
   },
   "outputs": [
    {
     "data": {
      "text/plain": [
       "(5783, 1)"
      ]
     },
     "execution_count": 37,
     "metadata": {},
     "output_type": "execute_result"
    }
   ],
   "source": [
    "# data reference - tabela para chaves primarias\n",
    "\n",
    "df_ref = df3.drop(['invoice_no','stock_code','quantity',\n",
    "                   'invoice_date','unit_price','country'], axis=1).drop_duplicates()\n",
    "\n",
    "df_ref.shape"
   ]
  },
  {
   "cell_type": "markdown",
   "metadata": {},
   "source": [
    "### 3.1.1. Gross Revenue"
   ]
  },
  {
   "cell_type": "code",
   "execution_count": 38,
   "metadata": {
    "ExecuteTime": {
     "end_time": "2022-05-31T01:38:12.903647Z",
     "start_time": "2022-05-31T01:38:12.864638Z"
    }
   },
   "outputs": [
    {
     "name": "stdout",
     "output_type": "stream",
     "text": [
      "(5783, 2)\n"
     ]
    },
    {
     "data": {
      "text/plain": [
       "customer_id       0\n",
       "gross_revenue    91\n",
       "dtype: int64"
      ]
     },
     "execution_count": 38,
     "metadata": {},
     "output_type": "execute_result"
    }
   ],
   "source": [
    "#gross revenue - quantity * price (faturamento)\n",
    "df_purchase.loc[:,'gross_revenue'] = df_purchase.loc[:,'quantity'] * df_purchase.loc[:,'unit_price']\n",
    "\n",
    "#Monetary\n",
    "df_monetary = df_purchase[['customer_id','gross_revenue']].groupby('customer_id').sum().reset_index()\n",
    "df_ref = pd.merge(df_ref, df_monetary, on='customer_id', how='left')\n",
    "print(df_ref.shape)\n",
    "df_ref.isnull().sum()"
   ]
  },
  {
   "cell_type": "markdown",
   "metadata": {},
   "source": [
    "### 3.1.2. Recency - Day from last purchase"
   ]
  },
  {
   "cell_type": "code",
   "execution_count": 39,
   "metadata": {
    "ExecuteTime": {
     "end_time": "2022-05-31T01:38:19.387738Z",
     "start_time": "2022-05-31T01:38:19.352740Z"
    }
   },
   "outputs": [
    {
     "name": "stdout",
     "output_type": "stream",
     "text": [
      "(5783, 3)\n"
     ]
    },
    {
     "data": {
      "text/plain": [
       "customer_id       0\n",
       "gross_revenue    91\n",
       "recency_days     91\n",
       "dtype: int64"
      ]
     },
     "execution_count": 39,
     "metadata": {},
     "output_type": "execute_result"
    }
   ],
   "source": [
    "#recency - last date invoice by customer - today\n",
    "df_recency = df_purchase.loc[:, ['customer_id', 'invoice_date']].groupby( 'customer_id' ).max().reset_index()\n",
    "df_recency['recency_days'] = ( df2['invoice_date'].max() - df_recency['invoice_date'] ).dt.days\n",
    "df_recency = df_recency[['customer_id', 'recency_days']].copy()\n",
    "df_ref = pd.merge( df_ref, df_recency, on='customer_id', how='left' )\n",
    "print(df_ref.shape)\n",
    "df_ref.isna().sum()"
   ]
  },
  {
   "cell_type": "markdown",
   "metadata": {
    "ExecuteTime": {
     "end_time": "2022-04-13T17:44:15.829428Z",
     "start_time": "2022-04-13T17:44:15.804422Z"
    }
   },
   "source": [
    "### 3.1.8. Quantity of products purchased"
   ]
  },
  {
   "cell_type": "code",
   "execution_count": 40,
   "metadata": {
    "ExecuteTime": {
     "end_time": "2022-05-31T01:38:21.630482Z",
     "start_time": "2022-05-31T01:38:21.561466Z"
    }
   },
   "outputs": [
    {
     "name": "stdout",
     "output_type": "stream",
     "text": [
      "(5783, 4)\n"
     ]
    },
    {
     "data": {
      "text/plain": [
       "customer_id       0\n",
       "gross_revenue    91\n",
       "recency_days     91\n",
       "qt_products      91\n",
       "dtype: int64"
      ]
     },
     "execution_count": 40,
     "metadata": {},
     "output_type": "execute_result"
    }
   ],
   "source": [
    "# number of products purchase\n",
    "df_freq = (df_purchase.loc[:, ['customer_id', 'stock_code']].groupby( 'customer_id' ).count().reset_index().rename( columns={'stock_code': 'qt_products'}))\n",
    "df_ref = pd.merge( df_ref, df_freq, on='customer_id', how='left' )\n",
    "print(df_ref.shape)\n",
    "df_ref.isna().sum()"
   ]
  },
  {
   "cell_type": "markdown",
   "metadata": {},
   "source": [
    "### 3.1.9. Frequency Purchase"
   ]
  },
  {
   "cell_type": "code",
   "execution_count": 41,
   "metadata": {
    "ExecuteTime": {
     "end_time": "2022-05-31T01:38:23.157158Z",
     "start_time": "2022-05-31T01:38:23.145156Z"
    }
   },
   "outputs": [
    {
     "data": {
      "text/html": [
       "<div>\n",
       "<style scoped>\n",
       "    .dataframe tbody tr th:only-of-type {\n",
       "        vertical-align: middle;\n",
       "    }\n",
       "\n",
       "    .dataframe tbody tr th {\n",
       "        vertical-align: top;\n",
       "    }\n",
       "\n",
       "    .dataframe thead th {\n",
       "        text-align: right;\n",
       "    }\n",
       "</style>\n",
       "<table border=\"1\" class=\"dataframe\">\n",
       "  <thead>\n",
       "    <tr style=\"text-align: right;\">\n",
       "      <th></th>\n",
       "      <th>invoice_no</th>\n",
       "      <th>stock_code</th>\n",
       "      <th>quantity</th>\n",
       "      <th>invoice_date</th>\n",
       "      <th>unit_price</th>\n",
       "      <th>country</th>\n",
       "      <th>customer_id</th>\n",
       "      <th>gross_revenue</th>\n",
       "    </tr>\n",
       "  </thead>\n",
       "  <tbody>\n",
       "    <tr>\n",
       "      <th>0</th>\n",
       "      <td>536365</td>\n",
       "      <td>85123A</td>\n",
       "      <td>6.0</td>\n",
       "      <td>2016-11-29</td>\n",
       "      <td>2.55</td>\n",
       "      <td>United Kingdom</td>\n",
       "      <td>17850</td>\n",
       "      <td>15.30</td>\n",
       "    </tr>\n",
       "    <tr>\n",
       "      <th>1</th>\n",
       "      <td>536365</td>\n",
       "      <td>71053</td>\n",
       "      <td>6.0</td>\n",
       "      <td>2016-11-29</td>\n",
       "      <td>3.39</td>\n",
       "      <td>United Kingdom</td>\n",
       "      <td>17850</td>\n",
       "      <td>20.34</td>\n",
       "    </tr>\n",
       "    <tr>\n",
       "      <th>2</th>\n",
       "      <td>536365</td>\n",
       "      <td>84406B</td>\n",
       "      <td>8.0</td>\n",
       "      <td>2016-11-29</td>\n",
       "      <td>2.75</td>\n",
       "      <td>United Kingdom</td>\n",
       "      <td>17850</td>\n",
       "      <td>22.00</td>\n",
       "    </tr>\n",
       "    <tr>\n",
       "      <th>3</th>\n",
       "      <td>536365</td>\n",
       "      <td>84029G</td>\n",
       "      <td>6.0</td>\n",
       "      <td>2016-11-29</td>\n",
       "      <td>3.39</td>\n",
       "      <td>United Kingdom</td>\n",
       "      <td>17850</td>\n",
       "      <td>20.34</td>\n",
       "    </tr>\n",
       "    <tr>\n",
       "      <th>4</th>\n",
       "      <td>536365</td>\n",
       "      <td>84029E</td>\n",
       "      <td>6.0</td>\n",
       "      <td>2016-11-29</td>\n",
       "      <td>3.39</td>\n",
       "      <td>United Kingdom</td>\n",
       "      <td>17850</td>\n",
       "      <td>20.34</td>\n",
       "    </tr>\n",
       "  </tbody>\n",
       "</table>\n",
       "</div>"
      ],
      "text/plain": [
       "  invoice_no stock_code  quantity invoice_date  unit_price         country  \\\n",
       "0     536365     85123A       6.0   2016-11-29        2.55  United Kingdom   \n",
       "1     536365      71053       6.0   2016-11-29        3.39  United Kingdom   \n",
       "2     536365     84406B       8.0   2016-11-29        2.75  United Kingdom   \n",
       "3     536365     84029G       6.0   2016-11-29        3.39  United Kingdom   \n",
       "4     536365     84029E       6.0   2016-11-29        3.39  United Kingdom   \n",
       "\n",
       "   customer_id  gross_revenue  \n",
       "0        17850          15.30  \n",
       "1        17850          20.34  \n",
       "2        17850          22.00  \n",
       "3        17850          20.34  \n",
       "4        17850          20.34  "
      ]
     },
     "execution_count": 41,
     "metadata": {},
     "output_type": "execute_result"
    }
   ],
   "source": [
    "df_purchase.head()"
   ]
  },
  {
   "cell_type": "code",
   "execution_count": 42,
   "metadata": {
    "ExecuteTime": {
     "end_time": "2022-05-31T01:38:25.164515Z",
     "start_time": "2022-05-31T01:38:24.346259Z"
    }
   },
   "outputs": [
    {
     "name": "stdout",
     "output_type": "stream",
     "text": [
      "(5783, 5)\n"
     ]
    },
    {
     "data": {
      "text/plain": [
       "customer_id       0\n",
       "gross_revenue    91\n",
       "recency_days     91\n",
       "qt_products      91\n",
       "frequency        91\n",
       "dtype: int64"
      ]
     },
     "execution_count": 42,
     "metadata": {},
     "output_type": "execute_result"
    }
   ],
   "source": [
    "df_aux = (df_purchase[['invoice_no',\n",
    "                       'customer_id',\n",
    "                       'invoice_date']].drop_duplicates().groupby('customer_id').agg(max_ = ('invoice_date','max'),\n",
    "                                                                                    min_ = ('invoice_date','min'),\n",
    "                                                                                    days_= ('invoice_date', lambda x: (x.max() - x.min()).days),\n",
    "                                                                                    buy_ = ('invoice_no','count'))).reset_index()\n",
    "\n",
    "# frequency\n",
    "df_aux['frequency'] = df_aux[['buy_','days_']].apply(lambda x: x['buy_']/ x['days_'] if x['days_'] != 0 else 0, axis=1)\n",
    "\n",
    "# merge\n",
    "\n",
    "df_ref = pd.merge(df_ref, df_aux[['customer_id','frequency']], on='customer_id', how='left')\n",
    "print(df_ref.shape)\n",
    "df_ref.isna().sum()"
   ]
  },
  {
   "cell_type": "markdown",
   "metadata": {},
   "source": [
    "### 3.1.6. Number of returns"
   ]
  },
  {
   "cell_type": "code",
   "execution_count": 43,
   "metadata": {
    "ExecuteTime": {
     "end_time": "2022-05-31T01:38:26.730393Z",
     "start_time": "2022-05-31T01:38:26.713389Z"
    },
    "code_folding": []
   },
   "outputs": [
    {
     "name": "stdout",
     "output_type": "stream",
     "text": [
      "(5783, 6)\n"
     ]
    },
    {
     "data": {
      "text/plain": [
       "customer_id       0\n",
       "gross_revenue    91\n",
       "recency_days     91\n",
       "qt_products      91\n",
       "frequency        91\n",
       "qtd_returns       0\n",
       "dtype: int64"
      ]
     },
     "execution_count": 43,
     "metadata": {},
     "output_type": "execute_result"
    }
   ],
   "source": [
    "#returns\n",
    "df_returns1 = df_returns[['customer_id','quantity']].drop_duplicates().groupby('customer_id').sum().reset_index().rename(columns={'quantity':'qtd_returns'})\n",
    "df_returns1.loc[:,'qtd_returns'] = df_returns1.loc[:,'qtd_returns'] * -1\n",
    "\n",
    "df_ref = pd.merge(df_ref, df_returns1, how='left', on='customer_id')\n",
    "df_ref.loc[df_ref['qtd_returns'].isna(), 'qtd_returns'] = 0\n",
    "print(df_ref.shape)\n",
    "df_ref.isna().sum()"
   ]
  },
  {
   "cell_type": "markdown",
   "metadata": {},
   "source": [
    "# <font color='black'> 4.0. EDA ( Exploratory Data Analysis ) </font>"
   ]
  },
  {
   "cell_type": "code",
   "execution_count": 44,
   "metadata": {
    "ExecuteTime": {
     "end_time": "2022-05-31T01:38:28.588992Z",
     "start_time": "2022-05-31T01:38:28.576989Z"
    }
   },
   "outputs": [],
   "source": [
    "df4 = df_ref.dropna().copy()"
   ]
  },
  {
   "cell_type": "markdown",
   "metadata": {},
   "source": [
    "# <font color='black'> 5.0. Data Preparation </font>"
   ]
  },
  {
   "cell_type": "code",
   "execution_count": 45,
   "metadata": {
    "ExecuteTime": {
     "end_time": "2022-05-31T01:38:29.850608Z",
     "start_time": "2022-05-31T01:38:29.841605Z"
    }
   },
   "outputs": [],
   "source": [
    "df5 = df4.copy()"
   ]
  },
  {
   "cell_type": "code",
   "execution_count": 46,
   "metadata": {
    "ExecuteTime": {
     "end_time": "2022-05-31T01:38:30.488735Z",
     "start_time": "2022-05-31T01:38:30.481743Z"
    }
   },
   "outputs": [
    {
     "data": {
      "text/plain": [
       "(5692, 6)"
      ]
     },
     "execution_count": 46,
     "metadata": {},
     "output_type": "execute_result"
    }
   ],
   "source": [
    "df5.shape"
   ]
  },
  {
   "cell_type": "code",
   "execution_count": 47,
   "metadata": {
    "ExecuteTime": {
     "end_time": "2022-05-31T01:38:31.220667Z",
     "start_time": "2022-05-31T01:38:31.201663Z"
    }
   },
   "outputs": [],
   "source": [
    "mm = pp.MinMaxScaler()\n",
    "\n",
    "df5['gross_revenue'] = mm.fit_transform(df5[['gross_revenue']])\n",
    "df5['recency_days'] = mm.fit_transform(df5[['recency_days']])\n",
    "df5['qt_products'] = mm.fit_transform(df5[['qt_products']])\n",
    "df5['frequency'] = mm.fit_transform(df5[['frequency']])\n",
    "df5['qtd_returns'] = mm.fit_transform(df5[['qtd_returns']])"
   ]
  },
  {
   "cell_type": "code",
   "execution_count": 48,
   "metadata": {
    "ExecuteTime": {
     "end_time": "2022-05-31T01:38:32.096438Z",
     "start_time": "2022-05-31T01:38:32.073433Z"
    }
   },
   "outputs": [
    {
     "data": {
      "text/html": [
       "<div>\n",
       "<style scoped>\n",
       "    .dataframe tbody tr th:only-of-type {\n",
       "        vertical-align: middle;\n",
       "    }\n",
       "\n",
       "    .dataframe tbody tr th {\n",
       "        vertical-align: top;\n",
       "    }\n",
       "\n",
       "    .dataframe thead th {\n",
       "        text-align: right;\n",
       "    }\n",
       "</style>\n",
       "<table border=\"1\" class=\"dataframe\">\n",
       "  <thead>\n",
       "    <tr style=\"text-align: right;\">\n",
       "      <th></th>\n",
       "      <th>customer_id</th>\n",
       "      <th>gross_revenue</th>\n",
       "      <th>recency_days</th>\n",
       "      <th>qt_products</th>\n",
       "      <th>frequency</th>\n",
       "      <th>qtd_returns</th>\n",
       "    </tr>\n",
       "  </thead>\n",
       "  <tbody>\n",
       "    <tr>\n",
       "      <th>0</th>\n",
       "      <td>17850</td>\n",
       "      <td>0.019411</td>\n",
       "      <td>0.997319</td>\n",
       "      <td>0.038218</td>\n",
       "      <td>1.000000</td>\n",
       "      <td>0.000283</td>\n",
       "    </tr>\n",
       "    <tr>\n",
       "      <th>1</th>\n",
       "      <td>13047</td>\n",
       "      <td>0.011301</td>\n",
       "      <td>0.150134</td>\n",
       "      <td>0.021175</td>\n",
       "      <td>0.000835</td>\n",
       "      <td>0.000081</td>\n",
       "    </tr>\n",
       "    <tr>\n",
       "      <th>2</th>\n",
       "      <td>12583</td>\n",
       "      <td>0.024143</td>\n",
       "      <td>0.005362</td>\n",
       "      <td>0.029826</td>\n",
       "      <td>0.001189</td>\n",
       "      <td>0.000674</td>\n",
       "    </tr>\n",
       "  </tbody>\n",
       "</table>\n",
       "</div>"
      ],
      "text/plain": [
       "   customer_id  gross_revenue  recency_days  qt_products  frequency  \\\n",
       "0        17850       0.019411      0.997319     0.038218   1.000000   \n",
       "1        13047       0.011301      0.150134     0.021175   0.000835   \n",
       "2        12583       0.024143      0.005362     0.029826   0.001189   \n",
       "\n",
       "   qtd_returns  \n",
       "0     0.000283  \n",
       "1     0.000081  \n",
       "2     0.000674  "
      ]
     },
     "execution_count": 48,
     "metadata": {},
     "output_type": "execute_result"
    }
   ],
   "source": [
    "df5.head(3)"
   ]
  },
  {
   "cell_type": "markdown",
   "metadata": {},
   "source": [
    "# <font color='black'> 6.0. Feature Selection </font>\n",
    "\n",
    "Qual o sentido de selecionar apenas as colunas abaixo?\n",
    "1. Quando formos criar o perfil dos clusters, precisamos identificar um valor média de uma variável, neste caso, não faz sentido eu calcular o valor médio de uma variável de um cluster, se essa variável já é uma média\n",
    "2. Em casos de variáveis muito relacionadas, verificar qual tem um maior ganho de informção ou identificar com o time de negócio, qual seria melhor para eles explicarem o agrupamento."
   ]
  },
  {
   "cell_type": "code",
   "execution_count": 49,
   "metadata": {
    "ExecuteTime": {
     "end_time": "2022-05-31T01:38:33.261510Z",
     "start_time": "2022-05-31T01:38:33.241505Z"
    }
   },
   "outputs": [
    {
     "data": {
      "text/html": [
       "<div>\n",
       "<style scoped>\n",
       "    .dataframe tbody tr th:only-of-type {\n",
       "        vertical-align: middle;\n",
       "    }\n",
       "\n",
       "    .dataframe tbody tr th {\n",
       "        vertical-align: top;\n",
       "    }\n",
       "\n",
       "    .dataframe thead th {\n",
       "        text-align: right;\n",
       "    }\n",
       "</style>\n",
       "<table border=\"1\" class=\"dataframe\">\n",
       "  <thead>\n",
       "    <tr style=\"text-align: right;\">\n",
       "      <th></th>\n",
       "      <th>customer_id</th>\n",
       "      <th>gross_revenue</th>\n",
       "      <th>recency_days</th>\n",
       "      <th>qt_products</th>\n",
       "      <th>frequency</th>\n",
       "      <th>qtd_returns</th>\n",
       "    </tr>\n",
       "  </thead>\n",
       "  <tbody>\n",
       "    <tr>\n",
       "      <th>0</th>\n",
       "      <td>17850</td>\n",
       "      <td>0.019411</td>\n",
       "      <td>0.997319</td>\n",
       "      <td>0.038218</td>\n",
       "      <td>1.000000</td>\n",
       "      <td>0.000283</td>\n",
       "    </tr>\n",
       "    <tr>\n",
       "      <th>1</th>\n",
       "      <td>13047</td>\n",
       "      <td>0.011301</td>\n",
       "      <td>0.150134</td>\n",
       "      <td>0.021175</td>\n",
       "      <td>0.000835</td>\n",
       "      <td>0.000081</td>\n",
       "    </tr>\n",
       "    <tr>\n",
       "      <th>2</th>\n",
       "      <td>12583</td>\n",
       "      <td>0.024143</td>\n",
       "      <td>0.005362</td>\n",
       "      <td>0.029826</td>\n",
       "      <td>0.001189</td>\n",
       "      <td>0.000674</td>\n",
       "    </tr>\n",
       "    <tr>\n",
       "      <th>3</th>\n",
       "      <td>13748</td>\n",
       "      <td>0.003413</td>\n",
       "      <td>0.254692</td>\n",
       "      <td>0.003486</td>\n",
       "      <td>0.000529</td>\n",
       "      <td>0.000000</td>\n",
       "    </tr>\n",
       "    <tr>\n",
       "      <th>4</th>\n",
       "      <td>15100</td>\n",
       "      <td>0.003153</td>\n",
       "      <td>0.892761</td>\n",
       "      <td>0.000258</td>\n",
       "      <td>0.002206</td>\n",
       "      <td>0.000296</td>\n",
       "    </tr>\n",
       "  </tbody>\n",
       "</table>\n",
       "</div>"
      ],
      "text/plain": [
       "   customer_id  gross_revenue  recency_days  qt_products  frequency  \\\n",
       "0        17850       0.019411      0.997319     0.038218   1.000000   \n",
       "1        13047       0.011301      0.150134     0.021175   0.000835   \n",
       "2        12583       0.024143      0.005362     0.029826   0.001189   \n",
       "3        13748       0.003413      0.254692     0.003486   0.000529   \n",
       "4        15100       0.003153      0.892761     0.000258   0.002206   \n",
       "\n",
       "   qtd_returns  \n",
       "0     0.000283  \n",
       "1     0.000081  \n",
       "2     0.000674  \n",
       "3     0.000000  \n",
       "4     0.000296  "
      ]
     },
     "execution_count": 49,
     "metadata": {},
     "output_type": "execute_result"
    }
   ],
   "source": [
    "df6 = df5.copy()\n",
    "df6.head()"
   ]
  },
  {
   "cell_type": "code",
   "execution_count": 50,
   "metadata": {
    "ExecuteTime": {
     "end_time": "2022-05-31T01:38:33.638229Z",
     "start_time": "2022-05-31T01:38:33.633228Z"
    }
   },
   "outputs": [],
   "source": [
    "cols_select = ['customer_id','gross_revenue','recency_days','qt_products','frequency','qtd_returns']"
   ]
  },
  {
   "cell_type": "code",
   "execution_count": 51,
   "metadata": {
    "ExecuteTime": {
     "end_time": "2022-05-31T01:38:33.887533Z",
     "start_time": "2022-05-31T01:38:33.873530Z"
    }
   },
   "outputs": [],
   "source": [
    "df6 = df6[cols_select].copy()"
   ]
  },
  {
   "cell_type": "code",
   "execution_count": 52,
   "metadata": {
    "ExecuteTime": {
     "end_time": "2022-05-31T01:38:34.089543Z",
     "start_time": "2022-05-31T01:38:34.082541Z"
    }
   },
   "outputs": [
    {
     "data": {
      "text/html": [
       "<div>\n",
       "<style scoped>\n",
       "    .dataframe tbody tr th:only-of-type {\n",
       "        vertical-align: middle;\n",
       "    }\n",
       "\n",
       "    .dataframe tbody tr th {\n",
       "        vertical-align: top;\n",
       "    }\n",
       "\n",
       "    .dataframe thead th {\n",
       "        text-align: right;\n",
       "    }\n",
       "</style>\n",
       "<table border=\"1\" class=\"dataframe\">\n",
       "  <thead>\n",
       "    <tr style=\"text-align: right;\">\n",
       "      <th></th>\n",
       "      <th>customer_id</th>\n",
       "      <th>gross_revenue</th>\n",
       "      <th>recency_days</th>\n",
       "      <th>qt_products</th>\n",
       "      <th>frequency</th>\n",
       "      <th>qtd_returns</th>\n",
       "    </tr>\n",
       "  </thead>\n",
       "  <tbody>\n",
       "    <tr>\n",
       "      <th>0</th>\n",
       "      <td>17850</td>\n",
       "      <td>0.019411</td>\n",
       "      <td>0.997319</td>\n",
       "      <td>0.038218</td>\n",
       "      <td>1.000000</td>\n",
       "      <td>0.000283</td>\n",
       "    </tr>\n",
       "    <tr>\n",
       "      <th>1</th>\n",
       "      <td>13047</td>\n",
       "      <td>0.011301</td>\n",
       "      <td>0.150134</td>\n",
       "      <td>0.021175</td>\n",
       "      <td>0.000835</td>\n",
       "      <td>0.000081</td>\n",
       "    </tr>\n",
       "    <tr>\n",
       "      <th>2</th>\n",
       "      <td>12583</td>\n",
       "      <td>0.024143</td>\n",
       "      <td>0.005362</td>\n",
       "      <td>0.029826</td>\n",
       "      <td>0.001189</td>\n",
       "      <td>0.000674</td>\n",
       "    </tr>\n",
       "    <tr>\n",
       "      <th>3</th>\n",
       "      <td>13748</td>\n",
       "      <td>0.003413</td>\n",
       "      <td>0.254692</td>\n",
       "      <td>0.003486</td>\n",
       "      <td>0.000529</td>\n",
       "      <td>0.000000</td>\n",
       "    </tr>\n",
       "    <tr>\n",
       "      <th>4</th>\n",
       "      <td>15100</td>\n",
       "      <td>0.003153</td>\n",
       "      <td>0.892761</td>\n",
       "      <td>0.000258</td>\n",
       "      <td>0.002206</td>\n",
       "      <td>0.000296</td>\n",
       "    </tr>\n",
       "  </tbody>\n",
       "</table>\n",
       "</div>"
      ],
      "text/plain": [
       "   customer_id  gross_revenue  recency_days  qt_products  frequency  \\\n",
       "0        17850       0.019411      0.997319     0.038218   1.000000   \n",
       "1        13047       0.011301      0.150134     0.021175   0.000835   \n",
       "2        12583       0.024143      0.005362     0.029826   0.001189   \n",
       "3        13748       0.003413      0.254692     0.003486   0.000529   \n",
       "4        15100       0.003153      0.892761     0.000258   0.002206   \n",
       "\n",
       "   qtd_returns  \n",
       "0     0.000283  \n",
       "1     0.000081  \n",
       "2     0.000674  \n",
       "3     0.000000  \n",
       "4     0.000296  "
      ]
     },
     "execution_count": 52,
     "metadata": {},
     "output_type": "execute_result"
    }
   ],
   "source": [
    "df6.head()"
   ]
  },
  {
   "cell_type": "markdown",
   "metadata": {},
   "source": [
    "# 7.0. Hyperparameter Fine-Tunning"
   ]
  },
  {
   "cell_type": "code",
   "execution_count": 53,
   "metadata": {
    "ExecuteTime": {
     "end_time": "2022-05-31T01:38:34.553945Z",
     "start_time": "2022-05-31T01:38:34.537942Z"
    }
   },
   "outputs": [],
   "source": [
    "df7 = df6.copy()"
   ]
  },
  {
   "cell_type": "markdown",
   "metadata": {},
   "source": [
    "## 7.1. Criando espaços de dados"
   ]
  },
  {
   "cell_type": "code",
   "execution_count": 54,
   "metadata": {
    "ExecuteTime": {
     "end_time": "2022-05-31T01:38:35.347867Z",
     "start_time": "2022-05-31T01:38:35.345866Z"
    }
   },
   "outputs": [],
   "source": [
    "X = df7.copy()"
   ]
  },
  {
   "cell_type": "markdown",
   "metadata": {},
   "source": [
    "### 7.1.1. PCA"
   ]
  },
  {
   "cell_type": "code",
   "execution_count": 77,
   "metadata": {
    "ExecuteTime": {
     "end_time": "2022-05-31T01:42:05.844242Z",
     "start_time": "2022-05-31T01:42:05.758223Z"
    }
   },
   "outputs": [
    {
     "data": {
      "image/png": "[encoded data removed]",
      "text/plain": [
       "<Figure size 432x288 with 1 Axes>"
      ]
     },
     "metadata": {
      "needs_background": "light"
     },
     "output_type": "display_data"
    }
   ],
   "source": [
    "pca = dd.PCA(n_components=X.shape[1] )\n",
    "\n",
    "principal_components = pca.fit_transform(X)\n",
    "\n",
    "# plot explained varibles\n",
    "features = range(pca.n_components_)\n",
    "\n",
    "plt.bar(features, pca.explained_variance_ratio_, color='black');\n",
    "\n",
    "# pca component\n",
    "df_pca = pd.DataFrame(principal_components)"
   ]
  },
  {
   "cell_type": "code",
   "execution_count": 78,
   "metadata": {
    "ExecuteTime": {
     "end_time": "2022-05-31T01:42:06.094094Z",
     "start_time": "2022-05-31T01:42:06.006074Z"
    }
   },
   "outputs": [
    {
     "data": {
      "image/png": "[encoded data removed]",
      "text/plain": [
       "<Figure size 432x288 with 1 Axes>"
      ]
     },
     "metadata": {
      "needs_background": "light"
     },
     "output_type": "display_data"
    }
   ],
   "source": [
    "sns.scatterplot(x=0, y=1, data=df_pca);"
   ]
  },
  {
   "cell_type": "markdown",
   "metadata": {},
   "source": [
    "### 7.1.2. UMAP"
   ]
  },
  {
   "cell_type": "code",
   "execution_count": 79,
   "metadata": {
    "ExecuteTime": {
     "end_time": "2022-05-31T01:42:18.893014Z",
     "start_time": "2022-05-31T01:42:12.477678Z"
    }
   },
   "outputs": [
    {
     "data": {
      "image/png": "[encoded data removed]",
      "text/plain": [
       "<Figure size 432x288 with 1 Axes>"
      ]
     },
     "metadata": {
      "needs_background": "light"
     },
     "output_type": "display_data"
    }
   ],
   "source": [
    "reducer = umap.UMAP(random_state=42)\n",
    "embedding = reducer.fit_transform(X) #embedding, espaço projetado. Saindo do min para o max, ou ao contrário. 2D to 9D or 9D to 2D\n",
    "\n",
    "#embedding\n",
    "\n",
    "df_pca['embedding_x'] = embedding[:, 0]\n",
    "df_pca['embedding_y'] = embedding[:, 1]\n",
    "\n",
    "#plot UMAP\n",
    "sns.scatterplot(x='embedding_x', \n",
    "                y='embedding_y', \n",
    "                data=df_pca);"
   ]
  },
  {
   "cell_type": "markdown",
   "metadata": {},
   "source": [
    "### 7.1.3. t-SNE"
   ]
  },
  {
   "cell_type": "code",
   "execution_count": 61,
   "metadata": {
    "ExecuteTime": {
     "end_time": "2022-05-31T01:39:35.200916Z",
     "start_time": "2022-05-31T01:39:24.605535Z"
    }
   },
   "outputs": [
    {
     "name": "stderr",
     "output_type": "stream",
     "text": [
      "C:\\Users\\rauul\\anaconda3\\envs\\insiders\\lib\\site-packages\\sklearn\\manifold\\_t_sne.py:780: FutureWarning: The default initialization in TSNE will change from 'random' to 'pca' in 1.2.\n",
      "  warnings.warn(\n",
      "C:\\Users\\rauul\\anaconda3\\envs\\insiders\\lib\\site-packages\\sklearn\\manifold\\_t_sne.py:790: FutureWarning: The default learning rate in TSNE will change from 200.0 to 'auto' in 1.2.\n",
      "  warnings.warn(\n"
     ]
    },
    {
     "data": {
      "image/png": "[encoded data removed]",
      "text/plain": [
       "<Figure size 432x288 with 1 Axes>"
      ]
     },
     "metadata": {
      "needs_background": "light"
     },
     "output_type": "display_data"
    }
   ],
   "source": [
    "reducer = TSNE(n_components=2, random_state=42, n_jobs=-1)\n",
    "embedding = reducer.fit_transform(X) #embedding, espaço projetado. Saindo do min para o max, ou ao contrário. 2D to 9D or 9D to 2D\n",
    "\n",
    "#embedding\n",
    "\n",
    "df_pca['embedding_x'] = embedding[:, 0]\n",
    "df_pca['embedding_y'] = embedding[:, 1]\n",
    "\n",
    "#plot UMAP\n",
    "sns.scatterplot(x='embedding_x', \n",
    "                y='embedding_y', \n",
    "                data=df_pca);"
   ]
  },
  {
   "cell_type": "markdown",
   "metadata": {},
   "source": [
    "### 7.1.1. Final Model - Embedding"
   ]
  },
  {
   "cell_type": "code",
   "execution_count": 62,
   "metadata": {
    "ExecuteTime": {
     "end_time": "2022-05-31T01:39:40.783406Z",
     "start_time": "2022-05-31T01:39:40.774404Z"
    }
   },
   "outputs": [],
   "source": [
    "#training dataset\n",
    "x = df7.drop(columns=['customer_id','gross_revenue'], axis=1)\n",
    "y = df7['gross_revenue']"
   ]
  },
  {
   "cell_type": "code",
   "execution_count": 74,
   "metadata": {
    "ExecuteTime": {
     "end_time": "2022-05-31T01:41:02.747359Z",
     "start_time": "2022-05-31T01:41:00.307458Z"
    }
   },
   "outputs": [],
   "source": [
    "# final model\n",
    "#model definition\n",
    "rf_model = en.RandomForestRegressor(n_estimators=250, random_state=42)\n",
    "\n",
    "#model training\n",
    "rf_model.fit(x,y)\n",
    "\n",
    "#dataframe leafs\n",
    "df_leaf = pd.DataFrame(rf_model.apply(x))"
   ]
  },
  {
   "cell_type": "code",
   "execution_count": 75,
   "metadata": {
    "ExecuteTime": {
     "end_time": "2022-05-31T01:41:09.377677Z",
     "start_time": "2022-05-31T01:41:03.289271Z"
    },
    "scrolled": true
   },
   "outputs": [
    {
     "name": "stderr",
     "output_type": "stream",
     "text": [
      "C:\\Users\\rauul\\anaconda3\\envs\\insiders\\lib\\site-packages\\sklearn\\manifold\\_spectral_embedding.py:260: UserWarning: Graph is not fully connected, spectral embedding may not work as expected.\n",
      "  warnings.warn(\n"
     ]
    },
    {
     "data": {
      "image/png": "[encoded data removed]",
      "text/plain": [
       "<Figure size 432x288 with 1 Axes>"
      ]
     },
     "metadata": {
      "needs_background": "light"
     },
     "output_type": "display_data"
    }
   ],
   "source": [
    "reducer = umap.UMAP(random_state=42)\n",
    "embedding = reducer.fit_transform(df_leaf) #embedding, espaço projetado. Saindo do min para o max, ou ao contrário. 2D to 9D or 9D to 2D\n",
    "\n",
    "#embedding\n",
    "df_tree = pd.DataFrame()\n",
    "df_tree['embedding_x'] = embedding[:, 0]\n",
    "df_tree['embedding_y'] = embedding[:, 1]\n",
    "\n",
    "#plot UMAP\n",
    "sns.scatterplot(x='embedding_x', \n",
    "                y='embedding_y', \n",
    "                data=df_tree);"
   ]
  },
  {
   "cell_type": "markdown",
   "metadata": {},
   "source": [
    "## 7.2. Fine Tuning Model Clustering"
   ]
  },
  {
   "cell_type": "code",
   "execution_count": 95,
   "metadata": {
    "ExecuteTime": {
     "end_time": "2022-05-31T01:43:08.186504Z",
     "start_time": "2022-05-31T01:43:08.177511Z"
    }
   },
   "outputs": [],
   "source": [
    "X = df_tree.copy()"
   ]
  },
  {
   "cell_type": "code",
   "execution_count": 96,
   "metadata": {
    "ExecuteTime": {
     "end_time": "2022-05-31T01:43:08.436544Z",
     "start_time": "2022-05-31T01:43:08.416540Z"
    }
   },
   "outputs": [
    {
     "data": {
      "text/html": [
       "<div>\n",
       "<style scoped>\n",
       "    .dataframe tbody tr th:only-of-type {\n",
       "        vertical-align: middle;\n",
       "    }\n",
       "\n",
       "    .dataframe tbody tr th {\n",
       "        vertical-align: top;\n",
       "    }\n",
       "\n",
       "    .dataframe thead th {\n",
       "        text-align: right;\n",
       "    }\n",
       "</style>\n",
       "<table border=\"1\" class=\"dataframe\">\n",
       "  <thead>\n",
       "    <tr style=\"text-align: right;\">\n",
       "      <th></th>\n",
       "      <th>embedding_x</th>\n",
       "      <th>embedding_y</th>\n",
       "    </tr>\n",
       "  </thead>\n",
       "  <tbody>\n",
       "    <tr>\n",
       "      <th>0</th>\n",
       "      <td>21.475883</td>\n",
       "      <td>-3.526814</td>\n",
       "    </tr>\n",
       "    <tr>\n",
       "      <th>1</th>\n",
       "      <td>16.831593</td>\n",
       "      <td>-4.407052</td>\n",
       "    </tr>\n",
       "    <tr>\n",
       "      <th>2</th>\n",
       "      <td>18.616110</td>\n",
       "      <td>-4.532408</td>\n",
       "    </tr>\n",
       "  </tbody>\n",
       "</table>\n",
       "</div>"
      ],
      "text/plain": [
       "   embedding_x  embedding_y\n",
       "0    21.475883    -3.526814\n",
       "1    16.831593    -4.407052\n",
       "2    18.616110    -4.532408"
      ]
     },
     "execution_count": 96,
     "metadata": {},
     "output_type": "execute_result"
    }
   ],
   "source": [
    "X.head(3)"
   ]
  },
  {
   "cell_type": "markdown",
   "metadata": {
    "hide_input": true
   },
   "source": [
    "# <font color='black'> 8.0. Model Training </font>"
   ]
  },
  {
   "cell_type": "code",
   "execution_count": 97,
   "metadata": {
    "ExecuteTime": {
     "end_time": "2022-05-31T01:43:09.001517Z",
     "start_time": "2022-05-31T01:43:08.896494Z"
    }
   },
   "outputs": [],
   "source": [
    "k=8\n",
    "# Model definition\n",
    "gmm_model = GaussianMixture(n_components=k, max_iter=300, random_state=42)\n",
    "# Model Training \n",
    "gmm_model.fit(X)\n",
    "# Model Predict\n",
    "labels = gmm_model.predict(X)"
   ]
  },
  {
   "cell_type": "markdown",
   "metadata": {},
   "source": [
    "### 8.2. Cluster Validation"
   ]
  },
  {
   "cell_type": "code",
   "execution_count": 98,
   "metadata": {
    "ExecuteTime": {
     "end_time": "2022-05-31T01:43:10.062224Z",
     "start_time": "2022-05-31T01:43:09.705812Z"
    }
   },
   "outputs": [
    {
     "name": "stdout",
     "output_type": "stream",
     "text": [
      "SS value: 0.36822813749313354\n"
     ]
    }
   ],
   "source": [
    "# WSS\n",
    "#print('WSS value: {}'.format(gmm_model.inertia_))\n",
    "\n",
    "# SS\n",
    "print('SS value: {}'.format(metrics.silhouette_score(X, labels, metric='euclidean')))"
   ]
  },
  {
   "cell_type": "markdown",
   "metadata": {},
   "source": [
    "# <font color='black'> 9.0. Cluster Analysis </font>"
   ]
  },
  {
   "cell_type": "code",
   "execution_count": 106,
   "metadata": {
    "ExecuteTime": {
     "end_time": "2022-05-31T01:44:30.427624Z",
     "start_time": "2022-05-31T01:44:30.406621Z"
    }
   },
   "outputs": [
    {
     "data": {
      "text/html": [
       "<div>\n",
       "<style scoped>\n",
       "    .dataframe tbody tr th:only-of-type {\n",
       "        vertical-align: middle;\n",
       "    }\n",
       "\n",
       "    .dataframe tbody tr th {\n",
       "        vertical-align: top;\n",
       "    }\n",
       "\n",
       "    .dataframe thead th {\n",
       "        text-align: right;\n",
       "    }\n",
       "</style>\n",
       "<table border=\"1\" class=\"dataframe\">\n",
       "  <thead>\n",
       "    <tr style=\"text-align: right;\">\n",
       "      <th></th>\n",
       "      <th>customer_id</th>\n",
       "      <th>gross_revenue</th>\n",
       "      <th>recency_days</th>\n",
       "      <th>qt_products</th>\n",
       "      <th>frequency</th>\n",
       "      <th>qtd_returns</th>\n",
       "      <th>cluster</th>\n",
       "    </tr>\n",
       "  </thead>\n",
       "  <tbody>\n",
       "    <tr>\n",
       "      <th>0</th>\n",
       "      <td>17850</td>\n",
       "      <td>5391.21</td>\n",
       "      <td>372.0</td>\n",
       "      <td>297.0</td>\n",
       "      <td>34.000000</td>\n",
       "      <td>21.0</td>\n",
       "      <td>5</td>\n",
       "    </tr>\n",
       "    <tr>\n",
       "      <th>1</th>\n",
       "      <td>13047</td>\n",
       "      <td>3138.99</td>\n",
       "      <td>56.0</td>\n",
       "      <td>165.0</td>\n",
       "      <td>0.028391</td>\n",
       "      <td>6.0</td>\n",
       "      <td>5</td>\n",
       "    </tr>\n",
       "    <tr>\n",
       "      <th>2</th>\n",
       "      <td>12583</td>\n",
       "      <td>6705.38</td>\n",
       "      <td>2.0</td>\n",
       "      <td>232.0</td>\n",
       "      <td>0.040431</td>\n",
       "      <td>50.0</td>\n",
       "      <td>5</td>\n",
       "    </tr>\n",
       "    <tr>\n",
       "      <th>3</th>\n",
       "      <td>13748</td>\n",
       "      <td>948.25</td>\n",
       "      <td>95.0</td>\n",
       "      <td>28.0</td>\n",
       "      <td>0.017986</td>\n",
       "      <td>0.0</td>\n",
       "      <td>6</td>\n",
       "    </tr>\n",
       "    <tr>\n",
       "      <th>4</th>\n",
       "      <td>15100</td>\n",
       "      <td>876.00</td>\n",
       "      <td>333.0</td>\n",
       "      <td>3.0</td>\n",
       "      <td>0.075000</td>\n",
       "      <td>22.0</td>\n",
       "      <td>2</td>\n",
       "    </tr>\n",
       "  </tbody>\n",
       "</table>\n",
       "</div>"
      ],
      "text/plain": [
       "   customer_id  gross_revenue  recency_days  qt_products  frequency  \\\n",
       "0        17850        5391.21         372.0        297.0  34.000000   \n",
       "1        13047        3138.99          56.0        165.0   0.028391   \n",
       "2        12583        6705.38           2.0        232.0   0.040431   \n",
       "3        13748         948.25          95.0         28.0   0.017986   \n",
       "4        15100         876.00         333.0          3.0   0.075000   \n",
       "\n",
       "   qtd_returns  cluster  \n",
       "0         21.0        5  \n",
       "1          6.0        5  \n",
       "2         50.0        5  \n",
       "3          0.0        6  \n",
       "4         22.0        2  "
      ]
     },
     "execution_count": 106,
     "metadata": {},
     "output_type": "execute_result"
    }
   ],
   "source": [
    "df9 = df4.copy()\n",
    "df9['cluster'] = labels\n",
    "df9.head()"
   ]
  },
  {
   "cell_type": "markdown",
   "metadata": {
    "ExecuteTime": {
     "end_time": "2021-04-21T00:35:42.383534Z",
     "start_time": "2021-04-21T00:35:42.373733Z"
    }
   },
   "source": [
    "## <font color='black'> 9.1. Visualization Inspection </font>"
   ]
  },
  {
   "cell_type": "code",
   "execution_count": 107,
   "metadata": {
    "ExecuteTime": {
     "end_time": "2022-05-31T01:44:43.970271Z",
     "start_time": "2022-05-31T01:44:43.966270Z"
    }
   },
   "outputs": [],
   "source": [
    "df_viz = X.copy()\n",
    "df_viz['cluster'] = labels"
   ]
  },
  {
   "cell_type": "code",
   "execution_count": 108,
   "metadata": {
    "ExecuteTime": {
     "end_time": "2022-05-31T01:44:44.967464Z",
     "start_time": "2022-05-31T01:44:44.646850Z"
    },
    "scrolled": false
   },
   "outputs": [
    {
     "data": {
      "image/png": "[encoded data removed]",
      "text/plain": [
       "<Figure size 432x288 with 1 Axes>"
      ]
     },
     "metadata": {
      "needs_background": "light"
     },
     "output_type": "display_data"
    }
   ],
   "source": [
    "sns.scatterplot(x='embedding_x',y='embedding_y',hue='cluster',data=df_viz, palette='deep');"
   ]
  },
  {
   "cell_type": "markdown",
   "metadata": {},
   "source": [
    "## 9.2. Cluster Profile"
   ]
  },
  {
   "cell_type": "code",
   "execution_count": 109,
   "metadata": {
    "ExecuteTime": {
     "end_time": "2022-05-31T01:44:46.450539Z",
     "start_time": "2022-05-31T01:44:46.429535Z"
    }
   },
   "outputs": [
    {
     "data": {
      "text/html": [
       "<div>\n",
       "<style scoped>\n",
       "    .dataframe tbody tr th:only-of-type {\n",
       "        vertical-align: middle;\n",
       "    }\n",
       "\n",
       "    .dataframe tbody tr th {\n",
       "        vertical-align: top;\n",
       "    }\n",
       "\n",
       "    .dataframe thead th {\n",
       "        text-align: right;\n",
       "    }\n",
       "</style>\n",
       "<table border=\"1\" class=\"dataframe\">\n",
       "  <thead>\n",
       "    <tr style=\"text-align: right;\">\n",
       "      <th></th>\n",
       "      <th>customer_id</th>\n",
       "      <th>gross_revenue</th>\n",
       "      <th>recency_days</th>\n",
       "      <th>qt_products</th>\n",
       "      <th>frequency</th>\n",
       "      <th>qtd_returns</th>\n",
       "      <th>cluster</th>\n",
       "    </tr>\n",
       "  </thead>\n",
       "  <tbody>\n",
       "    <tr>\n",
       "      <th>0</th>\n",
       "      <td>17850</td>\n",
       "      <td>5391.21</td>\n",
       "      <td>372.0</td>\n",
       "      <td>297.0</td>\n",
       "      <td>34.000000</td>\n",
       "      <td>21.0</td>\n",
       "      <td>5</td>\n",
       "    </tr>\n",
       "    <tr>\n",
       "      <th>1</th>\n",
       "      <td>13047</td>\n",
       "      <td>3138.99</td>\n",
       "      <td>56.0</td>\n",
       "      <td>165.0</td>\n",
       "      <td>0.028391</td>\n",
       "      <td>6.0</td>\n",
       "      <td>5</td>\n",
       "    </tr>\n",
       "    <tr>\n",
       "      <th>2</th>\n",
       "      <td>12583</td>\n",
       "      <td>6705.38</td>\n",
       "      <td>2.0</td>\n",
       "      <td>232.0</td>\n",
       "      <td>0.040431</td>\n",
       "      <td>50.0</td>\n",
       "      <td>5</td>\n",
       "    </tr>\n",
       "  </tbody>\n",
       "</table>\n",
       "</div>"
      ],
      "text/plain": [
       "   customer_id  gross_revenue  recency_days  qt_products  frequency  \\\n",
       "0        17850        5391.21         372.0        297.0  34.000000   \n",
       "1        13047        3138.99          56.0        165.0   0.028391   \n",
       "2        12583        6705.38           2.0        232.0   0.040431   \n",
       "\n",
       "   qtd_returns  cluster  \n",
       "0         21.0        5  \n",
       "1          6.0        5  \n",
       "2         50.0        5  "
      ]
     },
     "execution_count": 109,
     "metadata": {},
     "output_type": "execute_result"
    }
   ],
   "source": [
    "df9.head(3)"
   ]
  },
  {
   "cell_type": "code",
   "execution_count": 110,
   "metadata": {
    "ExecuteTime": {
     "end_time": "2022-05-31T01:44:47.500147Z",
     "start_time": "2022-05-31T01:44:47.478142Z"
    }
   },
   "outputs": [],
   "source": [
    "#Number of customer\n",
    "df9_cluster = df9[['customer_id','cluster']].groupby('cluster').count().reset_index()\n",
    "df9_cluster['percentage'] = 100*(df9_cluster['customer_id'] / df9_cluster['customer_id'].sum())\n",
    "\n",
    "#Avg Gross Revenue\n",
    "df_avg_revenue = df9[['gross_revenue','cluster']].groupby('cluster').mean().reset_index()\n",
    "df9_cluster = pd.merge(df9_cluster, df_avg_revenue, how='inner', on='cluster')\n",
    "\n",
    "#Avg Recency Days\n",
    "df_avg_days = df9[['recency_days','cluster']].groupby('cluster').mean().reset_index()\n",
    "df9_cluster = pd.merge(df9_cluster, df_avg_days, how='inner', on='cluster')\n",
    "\n",
    "#Avg Frequency\n",
    "df_avg_freq = df9[['frequency','cluster']].groupby('cluster').mean().reset_index()\n",
    "df9_cluster = pd.merge(df9_cluster, df_avg_freq, how='inner', on='cluster')\n",
    "\n",
    "#Qtd Products\n",
    "df_avg_product = df9[['qt_products','cluster']].groupby('cluster').mean().reset_index()\n",
    "df9_cluster = pd.merge(df9_cluster, df_avg_product, how='inner', on='cluster')\n",
    "\n",
    "#Qtd Returns\n",
    "df_avg_returns = df9[['qtd_returns','cluster']].groupby('cluster').mean().reset_index()\n",
    "df9_cluster = pd.merge(df9_cluster, df_avg_returns, how='inner', on='cluster')"
   ]
  },
  {
   "cell_type": "code",
   "execution_count": 111,
   "metadata": {
    "ExecuteTime": {
     "end_time": "2022-05-31T01:44:48.105160Z",
     "start_time": "2022-05-31T01:44:48.086156Z"
    },
    "cell_style": "center"
   },
   "outputs": [
    {
     "data": {
      "text/html": [
       "<div>\n",
       "<style scoped>\n",
       "    .dataframe tbody tr th:only-of-type {\n",
       "        vertical-align: middle;\n",
       "    }\n",
       "\n",
       "    .dataframe tbody tr th {\n",
       "        vertical-align: top;\n",
       "    }\n",
       "\n",
       "    .dataframe thead th {\n",
       "        text-align: right;\n",
       "    }\n",
       "</style>\n",
       "<table border=\"1\" class=\"dataframe\">\n",
       "  <thead>\n",
       "    <tr style=\"text-align: right;\">\n",
       "      <th></th>\n",
       "      <th>cluster</th>\n",
       "      <th>customer_id</th>\n",
       "      <th>percentage</th>\n",
       "      <th>gross_revenue</th>\n",
       "      <th>recency_days</th>\n",
       "      <th>frequency</th>\n",
       "      <th>qt_products</th>\n",
       "      <th>qtd_returns</th>\n",
       "    </tr>\n",
       "  </thead>\n",
       "  <tbody>\n",
       "    <tr>\n",
       "      <th>5</th>\n",
       "      <td>5</td>\n",
       "      <td>1045</td>\n",
       "      <td>18.359100</td>\n",
       "      <td>5698.175569</td>\n",
       "      <td>47.825837</td>\n",
       "      <td>0.087540</td>\n",
       "      <td>288.696651</td>\n",
       "      <td>132.669856</td>\n",
       "    </tr>\n",
       "    <tr>\n",
       "      <th>0</th>\n",
       "      <td>0</td>\n",
       "      <td>382</td>\n",
       "      <td>6.711174</td>\n",
       "      <td>1561.250497</td>\n",
       "      <td>118.178010</td>\n",
       "      <td>0.009904</td>\n",
       "      <td>93.816754</td>\n",
       "      <td>3.581152</td>\n",
       "    </tr>\n",
       "    <tr>\n",
       "      <th>6</th>\n",
       "      <td>6</td>\n",
       "      <td>1047</td>\n",
       "      <td>18.394238</td>\n",
       "      <td>1273.694117</td>\n",
       "      <td>78.829035</td>\n",
       "      <td>0.033401</td>\n",
       "      <td>75.554919</td>\n",
       "      <td>5.452722</td>\n",
       "    </tr>\n",
       "    <tr>\n",
       "      <th>1</th>\n",
       "      <td>1</td>\n",
       "      <td>586</td>\n",
       "      <td>10.295151</td>\n",
       "      <td>1154.115358</td>\n",
       "      <td>176.273038</td>\n",
       "      <td>0.002474</td>\n",
       "      <td>32.656997</td>\n",
       "      <td>2.948805</td>\n",
       "    </tr>\n",
       "    <tr>\n",
       "      <th>3</th>\n",
       "      <td>3</td>\n",
       "      <td>574</td>\n",
       "      <td>10.084329</td>\n",
       "      <td>1123.645662</td>\n",
       "      <td>117.515679</td>\n",
       "      <td>0.008406</td>\n",
       "      <td>77.324042</td>\n",
       "      <td>12.245645</td>\n",
       "    </tr>\n",
       "    <tr>\n",
       "      <th>2</th>\n",
       "      <td>2</td>\n",
       "      <td>583</td>\n",
       "      <td>10.242446</td>\n",
       "      <td>699.661441</td>\n",
       "      <td>120.720412</td>\n",
       "      <td>0.059227</td>\n",
       "      <td>25.147513</td>\n",
       "      <td>4.012007</td>\n",
       "    </tr>\n",
       "    <tr>\n",
       "      <th>4</th>\n",
       "      <td>4</td>\n",
       "      <td>923</td>\n",
       "      <td>16.215741</td>\n",
       "      <td>378.728202</td>\n",
       "      <td>156.425785</td>\n",
       "      <td>0.000452</td>\n",
       "      <td>25.832069</td>\n",
       "      <td>0.693391</td>\n",
       "    </tr>\n",
       "    <tr>\n",
       "      <th>7</th>\n",
       "      <td>7</td>\n",
       "      <td>552</td>\n",
       "      <td>9.697822</td>\n",
       "      <td>134.285290</td>\n",
       "      <td>185.244565</td>\n",
       "      <td>0.000035</td>\n",
       "      <td>5.192029</td>\n",
       "      <td>0.639493</td>\n",
       "    </tr>\n",
       "  </tbody>\n",
       "</table>\n",
       "</div>"
      ],
      "text/plain": [
       "   cluster  customer_id  percentage  gross_revenue  recency_days  frequency  \\\n",
       "5        5         1045   18.359100    5698.175569     47.825837   0.087540   \n",
       "0        0          382    6.711174    1561.250497    118.178010   0.009904   \n",
       "6        6         1047   18.394238    1273.694117     78.829035   0.033401   \n",
       "1        1          586   10.295151    1154.115358    176.273038   0.002474   \n",
       "3        3          574   10.084329    1123.645662    117.515679   0.008406   \n",
       "2        2          583   10.242446     699.661441    120.720412   0.059227   \n",
       "4        4          923   16.215741     378.728202    156.425785   0.000452   \n",
       "7        7          552    9.697822     134.285290    185.244565   0.000035   \n",
       "\n",
       "   qt_products  qtd_returns  \n",
       "5   288.696651   132.669856  \n",
       "0    93.816754     3.581152  \n",
       "6    75.554919     5.452722  \n",
       "1    32.656997     2.948805  \n",
       "3    77.324042    12.245645  \n",
       "2    25.147513     4.012007  \n",
       "4    25.832069     0.693391  \n",
       "7     5.192029     0.639493  "
      ]
     },
     "execution_count": 111,
     "metadata": {},
     "output_type": "execute_result"
    }
   ],
   "source": [
    "df9_cluster.sort_values('gross_revenue', ascending=False)"
   ]
  },
  {
   "cell_type": "markdown",
   "metadata": {
    "cell_style": "split"
   },
   "source": [
    "### Clusters Name\n",
    "\n",
    "- 5. Insiders\n",
    "- 0. Expectation\n",
    "- 6. Cheapers\n",
    "- 1. Hope\n",
    "- 3. Cheap\n",
    "- 2. Less1k\n",
    "- 4. Quitters\n",
    "- 7. Forgotten"
   ]
  },
  {
   "cell_type": "markdown",
   "metadata": {
    "cell_style": "split"
   },
   "source": [
    "### Cluster 01:  ( Candidato à Insider )\n",
    "    - Número de customers: 1045 (18% do customers )\n",
    "    - Recência em média: 47 dias\n",
    "    - Compras em média: 288 compras\n",
    "    - GMV: $5.698,17 dólares\n",
    "       "
   ]
  }
 ],
 "metadata": {
  "hide_input": false,
  "kernelspec": {
   "display_name": "Python 3 (ipykernel)",
   "language": "python",
   "name": "python3"
  },
  "language_info": {
   "codemirror_mode": {
    "name": "ipython",
    "version": 3
   },
   "file_extension": ".py",
   "mimetype": "text/x-python",
   "name": "python",
   "nbconvert_exporter": "python",
   "pygments_lexer": "ipython3",
   "version": "3.8.0"
  },
  "latex_envs": {
   "LaTeX_envs_menu_present": true,
   "autoclose": false,
   "autocomplete": true,
   "bibliofile": "biblio.bib",
   "cite_by": "apalike",
   "current_citInitial": 1,
   "eqLabelWithNumbers": true,
   "eqNumInitial": 1,
   "hotkeys": {
    "equation": "Ctrl-E",
    "itemize": "Ctrl-I"
   },
   "labels_anchors": false,
   "latex_user_defs": false,
   "report_style_numbering": false,
   "user_envs_cfg": false
  }
 },
 "nbformat": 4,
 "nbformat_minor": 4
}
